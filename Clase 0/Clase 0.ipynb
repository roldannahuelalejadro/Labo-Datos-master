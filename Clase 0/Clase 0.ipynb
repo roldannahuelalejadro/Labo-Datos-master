{
 "cells": [
  {
   "cell_type": "code",
   "execution_count": 1,
   "id": "46a5528c",
   "metadata": {},
   "outputs": [],
   "source": [
    "import numpy as np\n"
   ]
  },
  {
   "cell_type": "code",
   "execution_count": 13,
   "id": "ff3093e3",
   "metadata": {},
   "outputs": [
    {
     "name": "stdout",
     "output_type": "stream",
     "text": [
      "{'banana': 'baPanaPanaPa', 'manzana': 'maPanzaPanaPa', 'mandarina': 'maPandaPariPinaPa'}\n"
     ]
    }
   ],
   "source": [
    "\n",
    "\n",
    "def geringoso(cadena):\n",
    "    cadena_gernigosa = \"\"\n",
    "    for letra in cadena:\n",
    "        if letra in [\"a\", \"e\", \"i\", \"o\", \"u\"]:\n",
    "            cadena_gernigosa += (letra + \"P\"+ letra)\n",
    "        else:\n",
    "            cadena_gernigosa += letra\n",
    "    return cadena_gernigosa\n",
    " \n",
    "def traductor_geringoso(cadena_list):\n",
    "    dictionary = {}\n",
    "    for string in cadena_list:\n",
    "        dictionary[string] =  geringoso(string)\n",
    "    return dictionary\n",
    "\n",
    "lista =  ['banana', 'manzana', 'mandarina']\n",
    "\n",
    "lista_geringa = traductor_geringoso(lista)\n",
    "print(lista_geringa) "
   ]
  },
  {
   "cell_type": "code",
   "execution_count": null,
   "id": "bbe894d6",
   "metadata": {},
   "outputs": [],
   "source": []
  }
 ],
 "metadata": {
  "kernelspec": {
   "display_name": "Python 3",
   "language": "python",
   "name": "python3"
  },
  "language_info": {
   "codemirror_mode": {
    "name": "ipython",
    "version": 3
   },
   "file_extension": ".py",
   "mimetype": "text/x-python",
   "name": "python",
   "nbconvert_exporter": "python",
   "pygments_lexer": "ipython3",
   "version": "3.13.1"
  }
 },
 "nbformat": 4,
 "nbformat_minor": 5
}
