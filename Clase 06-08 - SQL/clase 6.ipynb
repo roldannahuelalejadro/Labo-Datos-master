{
 "cells": [
  {
   "cell_type": "code",
   "execution_count": 9,
   "id": "65fc03d0",
   "metadata": {},
   "outputs": [],
   "source": [
    "# Importamos bibliotecas\n",
    "import pandas as pd\n",
    "import duckdb as dd"
   ]
  },
  {
   "cell_type": "markdown",
   "id": "929aa7f6",
   "metadata": {},
   "source": [
    "# principal\n"
   ]
  },
  {
   "cell_type": "code",
   "execution_count": 10,
   "id": "7a5d1dc2",
   "metadata": {},
   "outputs": [],
   "source": [
    "\n",
    "#%%===========================================================================\n",
    "# Importamos los datasets que vamos a utilizar en este programa\n",
    "#=============================================================================\n",
    "\n",
    "carpeta = \"\"\n",
    "\n",
    "# Ejercicios AR-PROJECT, SELECT, RENAME\n",
    "empleado       = pd.read_csv(carpeta+\"empleado.csv\")\n",
    "# Ejercicios AR-UNION, INTERSECTION, MINUS\n",
    "alumnosBD      = pd.read_csv(carpeta+\"alumnosBD.csv\")\n",
    "alumnosTLeng   = pd.read_csv(carpeta+\"alumnosTLeng.csv\")\n",
    "# Ejercicios AR-CROSSJOIN\n",
    "persona        = pd.read_csv(carpeta+\"persona.csv\")\n",
    "nacionalidades = pd.read_csv(carpeta+\"nacionalidades.csv\")\n",
    "# Ejercicios ¿Mismos Nombres?\n",
    "se_inscribe_en=pd.read_csv(carpeta+\"se_inscribe_en.csv\")\n",
    "materia       =pd.read_csv(carpeta+\"materia.csv\")\n",
    "# Ejercicio JOIN múltiples tablas\n",
    "vuelo      = pd.read_csv(carpeta+\"vuelo.csv\")    \n",
    "aeropuerto = pd.read_csv(carpeta+\"aeropuerto.csv\")    \n",
    "pasajero   = pd.read_csv(carpeta+\"pasajero.csv\")    \n",
    "reserva    = pd.read_csv(carpeta+\"reserva.csv\")    \n",
    "# Ejercicio JOIN tuplas espúreas\n",
    "empleadoRol= pd.read_csv(carpeta+\"empleadoRol.csv\")    \n",
    "rolProyecto= pd.read_csv(carpeta+\"rolProyecto.csv\")    \n",
    "# Ejercicios funciones de agregación, LIKE, Elección, Subqueries \n",
    "# y variables de Python\n",
    "examen     = pd.read_csv(carpeta+\"examen.csv\")\n",
    "# Ejercicios de manejo de valores NULL\n",
    "examen03 = pd.read_csv(carpeta+\"examen03.csv\")\n",
    "\n",
    "\n"
   ]
  },
  {
   "cell_type": "code",
   "execution_count": 11,
   "id": "7877e72f",
   "metadata": {},
   "outputs": [
    {
     "name": "stdout",
     "output_type": "stream",
     "text": [
      "        DNI  Nombre Sexo  Salario\n",
      "0  20222333   Diego    M  20000.0\n",
      "1  33456234   Laura    F  25000.0\n",
      "2  45432345  Marina    F  10000.0\n",
      "        DNI  Salario\n",
      "0  45432345  10000.0\n",
      "1  20222333  20000.0\n",
      "2  33456234  25000.0\n"
     ]
    }
   ],
   "source": [
    "print(empleado)\n",
    "\n",
    "consultaSQL = \"\"\"\n",
    "               SELECT DISTINCT DNI, Salario\n",
    "               FROM empleado;\n",
    "              \"\"\"\n",
    "\n",
    "dataframeResultado = dd.sql(consultaSQL).df()\n",
    "\n",
    "print(dataframeResultado)\n",
    "\n"
   ]
  },
  {
   "cell_type": "code",
   "execution_count": 12,
   "id": "bcc9b225",
   "metadata": {},
   "outputs": [
    {
     "name": "stdout",
     "output_type": "stream",
     "text": [
      "        DNI  Salario\n",
      "0  20222333  20000.0\n",
      "1  33456234  25000.0\n",
      "2  45432345  10000.0\n",
      "ej2: /n   Sexo\n",
      "0    M\n",
      "1    F\n",
      "  Sexo\n",
      "0    M\n",
      "1    F\n",
      "2    F\n"
     ]
    }
   ],
   "source": [
    "#%%===========================================================================\n",
    "# Ejercicios AR-PROJECT <-> SELECT\n",
    "#=============================================================================\n",
    "# a.- Listar DNI y Salario de empleados \n",
    "consultaSQL = \"\"\"\n",
    "               SELECT DISTINCT DNI, Salario\n",
    "               FROM empleado;\n",
    "              \"\"\"\n",
    "\n",
    "dataframeResultado = dd.sql(consultaSQL).df()\n",
    "print(dataframeResultado)\n",
    "#%%-----------\n",
    "# b.- Listar Sexo de empleados \n",
    "consultaSQL = \"\"\"\n",
    "               SELECT DISTINCT Sexo\n",
    "               FROM empleado;\n",
    "              \"\"\"\n",
    "\n",
    "dataframeResultado = dd.sql(consultaSQL).df()\n",
    "print(\"ej2:\", r\"/n\",dataframeResultado)\n",
    "#%%-----------\n",
    "#c.- Listar Sexo de empleados (sin DISTINCT)\n",
    "consultaSQL = \"\"\"\n",
    "               SELECT Sexo\n",
    "               FROM empleado;\n",
    "              \"\"\"\n",
    "\n",
    "dataframeResultado = dd.sql(consultaSQL).df()\n",
    "\n",
    "print(dataframeResultado)"
   ]
  },
  {
   "cell_type": "code",
   "execution_count": 13,
   "id": "dc679d73",
   "metadata": {},
   "outputs": [
    {
     "data": {
      "text/html": [
       "<div>\n",
       "<style scoped>\n",
       "    .dataframe tbody tr th:only-of-type {\n",
       "        vertical-align: middle;\n",
       "    }\n",
       "\n",
       "    .dataframe tbody tr th {\n",
       "        vertical-align: top;\n",
       "    }\n",
       "\n",
       "    .dataframe thead th {\n",
       "        text-align: right;\n",
       "    }\n",
       "</style>\n",
       "<table border=\"1\" class=\"dataframe\">\n",
       "  <thead>\n",
       "    <tr style=\"text-align: right;\">\n",
       "      <th></th>\n",
       "      <th>DNI</th>\n",
       "      <th>Nombre</th>\n",
       "      <th>Sexo</th>\n",
       "      <th>Salario</th>\n",
       "    </tr>\n",
       "  </thead>\n",
       "  <tbody>\n",
       "    <tr>\n",
       "      <th>0</th>\n",
       "      <td>45432345</td>\n",
       "      <td>Marina</td>\n",
       "      <td>F</td>\n",
       "      <td>10000.0</td>\n",
       "    </tr>\n",
       "    <tr>\n",
       "      <th>1</th>\n",
       "      <td>33456234</td>\n",
       "      <td>Laura</td>\n",
       "      <td>F</td>\n",
       "      <td>25000.0</td>\n",
       "    </tr>\n",
       "  </tbody>\n",
       "</table>\n",
       "</div>"
      ],
      "text/plain": [
       "        DNI  Nombre Sexo  Salario\n",
       "0  45432345  Marina    F  10000.0\n",
       "1  33456234   Laura    F  25000.0"
      ]
     },
     "execution_count": 13,
     "metadata": {},
     "output_type": "execute_result"
    }
   ],
   "source": [
    "\n",
    "\n",
    "#%%===========================================================================\n",
    "# Ejercicios AR-SELECT <-> WHERE\n",
    "#=============================================================================\n",
    "# a.- Listar de EMPLEADO sólo aquellos cuyo sexo es femenino\n",
    "consultaSQL = \"\"\"\n",
    "                SELECT DISTINCT *\n",
    "                FROM empleado\n",
    "                WHERE Sexo = 'F';\n",
    "              \"\"\"\n",
    "\n",
    "dataframeResultado = dd.sql(consultaSQL).df()\n",
    "dataframeResultado"
   ]
  },
  {
   "cell_type": "code",
   "execution_count": 14,
   "id": "f74c06b8",
   "metadata": {},
   "outputs": [
    {
     "data": {
      "text/html": [
       "<div>\n",
       "<style scoped>\n",
       "    .dataframe tbody tr th:only-of-type {\n",
       "        vertical-align: middle;\n",
       "    }\n",
       "\n",
       "    .dataframe tbody tr th {\n",
       "        vertical-align: top;\n",
       "    }\n",
       "\n",
       "    .dataframe thead th {\n",
       "        text-align: right;\n",
       "    }\n",
       "</style>\n",
       "<table border=\"1\" class=\"dataframe\">\n",
       "  <thead>\n",
       "    <tr style=\"text-align: right;\">\n",
       "      <th></th>\n",
       "      <th>DNI</th>\n",
       "      <th>Nombre</th>\n",
       "      <th>Sexo</th>\n",
       "      <th>Salario</th>\n",
       "    </tr>\n",
       "  </thead>\n",
       "  <tbody>\n",
       "    <tr>\n",
       "      <th>0</th>\n",
       "      <td>33456234</td>\n",
       "      <td>Laura</td>\n",
       "      <td>F</td>\n",
       "      <td>25000.0</td>\n",
       "    </tr>\n",
       "  </tbody>\n",
       "</table>\n",
       "</div>"
      ],
      "text/plain": [
       "        DNI Nombre Sexo  Salario\n",
       "0  33456234  Laura    F  25000.0"
      ]
     },
     "execution_count": 14,
     "metadata": {},
     "output_type": "execute_result"
    }
   ],
   "source": [
    "#%% -----------\n",
    "#b.- Listar de EMPLEADO aquellos cuyo sexo es femenino y su salario es mayor a $15.000\n",
    "consultaSQL = \"\"\"\n",
    "            SELECT DISTINCT *\n",
    "            FROM empleado\n",
    "            WHERE Sexo = 'F' and Salario > '15000';\n",
    "              \"\"\"\n",
    "\n",
    "dataframeResultado = dd.sql(consultaSQL).df()\n",
    "dataframeResultado"
   ]
  },
  {
   "cell_type": "code",
   "execution_count": 15,
   "id": "e03ce0d9",
   "metadata": {},
   "outputs": [
    {
     "ename": "ParserException",
     "evalue": "Parser Error: syntax error at end of input",
     "output_type": "error",
     "traceback": [
      "\u001b[31m---------------------------------------------------------------------------\u001b[39m",
      "\u001b[31mParserException\u001b[39m                           Traceback (most recent call last)",
      "\u001b[36mCell\u001b[39m\u001b[36m \u001b[39m\u001b[32mIn[15]\u001b[39m\u001b[32m, line 11\u001b[39m\n\u001b[32m      1\u001b[39m \u001b[38;5;66;03m#%%===========================================================================\u001b[39;00m\n\u001b[32m      2\u001b[39m \u001b[38;5;66;03m# Ejercicios AR-RENAME <-> AS\u001b[39;00m\n\u001b[32m      3\u001b[39m \u001b[38;5;66;03m#=============================================================================\u001b[39;00m\n\u001b[32m      4\u001b[39m \u001b[38;5;66;03m#a.- Listar DNI y Salario de EMPLEADO, y renombrarlos como id e Ingreso\u001b[39;00m\n\u001b[32m      5\u001b[39m consultaSQL = \u001b[33m\"\"\"\u001b[39m\n\u001b[32m      6\u001b[39m \u001b[33m            SELECT DISTINCT *\u001b[39m\n\u001b[32m      7\u001b[39m \u001b[33m            FROM empleado\u001b[39m\n\u001b[32m      8\u001b[39m \u001b[33m            WHERE \u001b[39m\n\u001b[32m      9\u001b[39m \u001b[33m              \u001b[39m\u001b[33m\"\"\"\u001b[39m\n\u001b[32m---> \u001b[39m\u001b[32m11\u001b[39m dataframeResultado = \u001b[43mdd\u001b[49m\u001b[43m.\u001b[49m\u001b[43msql\u001b[49m\u001b[43m(\u001b[49m\u001b[43mconsultaSQL\u001b[49m\u001b[43m)\u001b[49m.df()\n\u001b[32m     14\u001b[39m \u001b[38;5;66;03m#%% # # # # # # # # # # # # # # # # # # # # # # # # # # # # # # # # # # # # # \u001b[39;00m\n\u001b[32m     15\u001b[39m  \u001b[38;5;66;03m# # # # # # # # # # # # # # # # # # # # # # # # # # # # # # # # # # # # # # \u001b[39;00m\n\u001b[32m     16\u001b[39m \u001b[38;5;66;03m# # # # # # # # # # # # # # # # # # # # # # # # # # # # # # # # # # # # # # #\u001b[39;00m\n\u001b[32m   (...)\u001b[39m\u001b[32m     23\u001b[39m \n\u001b[32m     24\u001b[39m \u001b[38;5;66;03m# IMPORTANTE: Recordar que se utilizaran los datos de vuelo, aeropuerto, pasajero y reserva\u001b[39;00m\n",
      "\u001b[31mParserException\u001b[39m: Parser Error: syntax error at end of input"
     ]
    }
   ],
   "source": [
    "#%%===========================================================================\n",
    "# Ejercicios AR-RENAME <-> AS\n",
    "#=============================================================================\n",
    "#a.- Listar DNI y Salario de EMPLEADO, y renombrarlos como id e Ingreso\n",
    "consultaSQL = \"\"\"\n",
    "            SELECT DISTINCT *\n",
    "            FROM empleado\n",
    "            WHERE \n",
    "              \"\"\"\n",
    "\n",
    "dataframeResultado = dd.sql(consultaSQL).df()\n",
    "\n",
    "\n",
    "#%% # # # # # # # # # # # # # # # # # # # # # # # # # # # # # # # # # # # # # \n",
    " # # # # # # # # # # # # # # # # # # # # # # # # # # # # # # # # # # # # # # \n",
    "# # # # # # # # # # # # # # # # # # # # # # # # # # # # # # # # # # # # # # #\n",
    " # #                                                                     # #\n",
    "# #    INICIO -->           EJERCICIO Nro. 01                             # #\n",
    " # #                                                                     # # \n",
    "# # # # # # # # # # # # # # # # # # # # # # # # # # # # # # # # # # # # # # #\n",
    " # # # # # # # # # # # # # # # # # # # # # # # # # # # # # # # # # # # # # # \n",
    "# # # # # # # # # # # # # # # # # # # # # # # # # # # # # # # # # # # # # # #\n",
    "\n",
    "# IMPORTANTE: Recordar que se utilizaran los datos de vuelo, aeropuerto, pasajero y reserva"
   ]
  },
  {
   "cell_type": "code",
   "execution_count": null,
   "id": "72f2cffd",
   "metadata": {},
   "outputs": [],
   "source": [
    "#%%===========================================================================\n",
    "# EJERCICIOS PARA REALIZAR DE MANERA INDIVIDUAL --> EJERCICIO Nro. 01\n",
    "#=============================================================================\n",
    "# Ejercicio 01.1.- Retornar Codigo y Nombre de los aeropuertos de Londres\n",
    "consultaSQL = \"\"\"\n",
    "\n",
    "              \"\"\"\n",
    "\n",
    "dataframeResultado = dd.sql(consultaSQL).df()\n",
    "\n",
    "#%% -----------\n",
    "# Ejercicio 01.2.- ¿Qué retorna \n",
    "#                       SELECT DISTINCT Ciudad AS City \n",
    "#                       FROM aeropuerto \n",
    "#                       WHERE Codigo='ORY' OR Codigo='CDG'; ?\n",
    "consultaSQL = \"\"\"\n",
    "\n",
    "              \"\"\"\n",
    "\n",
    "dataframeResultado = dd.sql(consultaSQL).df()\n",
    "\n",
    "#%% -----------\n",
    "# Ejercicio 01.3.- Obtener los números de vuelo que van desde CDG hacia LHR\n",
    "consultaSQL = \"\"\"\n",
    "\n",
    "              \"\"\"\n",
    "\n",
    "dataframeResultado = dd.sql(consultaSQL).df()\n",
    "\n",
    "#%% -----------\n",
    "# Ejercicio 01.4.- Obtener los números de vuelo que van desde CDG hacia LHR o viceversa\n",
    "consultaSQL = \"\"\"\n",
    "\n",
    "              \"\"\"\n",
    "\n",
    "dataframeResultado = dd.sql(consultaSQL).df()\n",
    "\n",
    "#%% -----------\n",
    "# Ejercicio 01.5.- Devolver las fechas de reservas cuyos precios son mayores a $200\n",
    "consultaSQL = \"\"\"\n",
    "\n",
    "              \"\"\"\n",
    "\n",
    "dataframeResultado = dd.sql(consultaSQL).df()\n"
   ]
  },
  {
   "cell_type": "code",
   "execution_count": null,
   "id": "dafa0c8d",
   "metadata": {},
   "outputs": [
    {
     "name": "stdout",
     "output_type": "stream",
     "text": [
      "   ID     Nombre\n",
      "0   4  Alejandro\n",
      "1   3     Marina\n",
      "2   1      Diego\n",
      "3   2      Laura\n"
     ]
    }
   ],
   "source": [
    "\n",
    "#%% # # # # # # # # # # # # # # # # # # # # # # # # # # # # # # # # # # # # # \n",
    " # # # # # # # # # # # # # # # # # # # # # # # # # # # # # # # # # # # # # # \n",
    "# # # # # # # # # # # # # # # # # # # # # # # # # # # # # # # # # # # # # # #\n",
    " # #                                                                     # #\n",
    "# #    FIN -->              EJERCICIO Nro. 01                             # #\n",
    " # #                                                                     # # \n",
    "# # # # # # # # # # # # # # # # # # # # # # # # # # # # # # # # # # # # # # #\n",
    " # # # # # # # # # # # # # # # # # # # # # # # # # # # # # # # # # # # # # # \n",
    "# # # # # # # # # # # # # # # # # # # # # # # # # # # # # # # # # # # # # # #\n",
    "    \n",
    "#=============================================================================\n",
    "# Ejercicios AR-UNION, INTERSECTION, MINUS <-> UNION, INTERSECTION, EXCEPT\n",
    "#=============================================================================\n",
    "# a1.- Listar a los alumnos que cursan BDs o TLENG\n",
    "\n",
    "consultaSQL = \"\"\"\n",
    "            SELECT *\n",
    "            FROM alumnosBD\n",
    "            UNION\n",
    "            SELECT *\n",
    "            FROM alumnosTLeng\n",
    "              \"\"\"\n",
    "\n",
    "dataframeResultado = dd.sql(consultaSQL).df()\n",
    "print(dataframeResultado)\n"
   ]
  },
  {
   "cell_type": "code",
   "execution_count": null,
   "id": "97dd49b1",
   "metadata": {},
   "outputs": [
    {
     "name": "stdout",
     "output_type": "stream",
     "text": [
      "   ID     Nombre\n",
      "0   1      Diego\n",
      "1   2      Laura\n",
      "2   3     Marina\n",
      "3   2      Laura\n",
      "4   4  Alejandro\n"
     ]
    }
   ],
   "source": [
    "\n",
    "#%% -----------\n",
    "# a2.- Listar a los alumnos que cursan BDs o TLENG (usando UNION ALL)\n",
    "\n",
    "consultaSQL = \"\"\"\n",
    "            SELECT *\n",
    "            FROM alumnosBD\n",
    "            UNION ALL\n",
    "            SELECT *\n",
    "            FROM alumnosTLeng\n",
    "              \"\"\"\n",
    "\n",
    "dataframeResultado = dd.sql(consultaSQL).df()\n",
    "print(dataframeResultado)\n"
   ]
  },
  {
   "cell_type": "code",
   "execution_count": null,
   "id": "e6719f91",
   "metadata": {},
   "outputs": [
    {
     "name": "stdout",
     "output_type": "stream",
     "text": [
      "   ID Nombre\n",
      "0   2  Laura\n"
     ]
    }
   ],
   "source": [
    "#%% -----------\n",
    "# b.- Listar a los alumnos que cursan simultáneamente BDs y TLENG\n",
    "\n",
    "consultaSQL = \"\"\"\n",
    "            SELECT *\n",
    "            FROM alumnosBD\n",
    "            INTERSECT\n",
    "            SELECT *\n",
    "            FROM alumnosTLeng;\n",
    "              \"\"\"\n",
    "\n",
    "dataframeResultado = dd.sql(consultaSQL).df()\n",
    "print(dataframeResultado)"
   ]
  },
  {
   "cell_type": "code",
   "execution_count": null,
   "id": "ac0b0e94",
   "metadata": {},
   "outputs": [
    {
     "name": "stdout",
     "output_type": "stream",
     "text": [
      "   ID  Nombre\n",
      "0   3  Marina\n",
      "1   1   Diego\n"
     ]
    }
   ],
   "source": [
    "\n",
    "\n",
    "\n",
    "#%% -----------\n",
    "# c.- Listar a los alumnos que cursan BDs y no cursan TLENG \n",
    "\n",
    "consultaSQL = \"\"\"\n",
    "            SELECT *\n",
    "            FROM alumnosBD\n",
    "            EXCEPT\n",
    "            SELECT *\n",
    "            FROM alumnosTLeng\n",
    "              \"\"\"\n",
    "\n",
    "dataframeResultado = dd.sql(consultaSQL).df()\n",
    "print(dataframeResultado)\n"
   ]
  },
  {
   "cell_type": "code",
   "execution_count": null,
   "id": "b00dfc9c",
   "metadata": {},
   "outputs": [
    {
     "name": "stdout",
     "output_type": "stream",
     "text": [
      "   Numero\n",
      "0     321\n",
      "1     345\n",
      "2     165\n"
     ]
    }
   ],
   "source": [
    "\n",
    "#%% # # # # # # # # # # # # # # # # # # # # # # # # # # # # # # # # # # # # # \n",
    " # # # # # # # # # # # # # # # # # # # # # # # # # # # # # # # # # # # # # # \n",
    "# # # # # # # # # # # # # # # # # # # # # # # # # # # # # # # # # # # # # # #\n",
    " # #                                                                     # #\n",
    "# #    INICIO -->           EJERCICIO Nro. 02                             # #\n",
    " # #                                                                     # # \n",
    "# # # # # # # # # # # # # # # # # # # # # # # # # # # # # # # # # # # # # # #\n",
    " # # # # # # # # # # # # # # # # # # # # # # # # # # # # # # # # # # # # # # \n",
    "# # # # # # # # # # # # # # # # # # # # # # # # # # # # # # # # # # # # # # #\n",
    "\n",
    "# IMPORTANTE: Recordar que se utilizaran los datos de vuelo, aeropuerto, pasajero y reserva\n",
    "\n",
    "#=============================================================================\n",
    "#  EJERCICIOS PARA REALIZAR DE MANERA INDIVIDUAL --> EJERCICIO Nro. 02\n",
    "#=============================================================================\n",
    "# Ejercicio 02.1.- Devolver los números de vuelo que tienen reservas generadas (utilizar intersección)\n",
    "consultaSQL = \"\"\"\n",
    "            SELECT Numero\n",
    "            FROM vuelo\n",
    "            INTERSECT\n",
    "            SELECT NroVuelo\n",
    "            FROM reserva\n",
    "              \"\"\"\n",
    "\n",
    "dataframeResultado = dd.sql(consultaSQL).df()\n",
    "print(dataframeResultado)"
   ]
  },
  {
   "cell_type": "code",
   "execution_count": null,
   "id": "9f9ae71d",
   "metadata": {},
   "outputs": [
    {
     "name": "stdout",
     "output_type": "stream",
     "text": [
      "   Numero\n",
      "0     903\n",
      "1     447\n"
     ]
    }
   ],
   "source": [
    "\n",
    "#%%-----------\n",
    "# Ejercicio 02.2.- Devolver los números de vuelo que aún no tienen reservas\n",
    "consultaSQL = \"\"\"\n",
    "            SELECT Numero\n",
    "            FROM vuelo\n",
    "            EXCEPT\n",
    "            SELECT NroVuelo\n",
    "            FROM reserva\n",
    "              \"\"\"\n",
    "\n",
    "dataframeResultado = dd.sql(consultaSQL).df()\n",
    "print(dataframeResultado)\n",
    "\n"
   ]
  },
  {
   "cell_type": "code",
   "execution_count": null,
   "id": "f10e7afb",
   "metadata": {},
   "outputs": [
    {
     "name": "stdout",
     "output_type": "stream",
     "text": [
      "  Origen\n",
      "0    MAD\n",
      "1    LHR\n",
      "2    CDG\n"
     ]
    }
   ],
   "source": [
    "#%%-----------\n",
    "# Ejercicio 02.3.- Retornar los códigos de aeropuerto de los que parten o arriban los vuelos\n",
    "consultaSQL = \"\"\"\n",
    "            SELECT Origen            FROM vuelo            INTERSECT            SELECT Codigo            FROM aeropuerto\n",
    "              \"\"\"\n",
    "              \n",
    "dataframeResultado = dd.sql(consultaSQL).df()\n",
    "print(dataframeResultado)"
   ]
  },
  {
   "cell_type": "code",
   "execution_count": null,
   "id": "340f37b7",
   "metadata": {},
   "outputs": [
    {
     "name": "stdout",
     "output_type": "stream",
     "text": [
      "   Nombre Nacionalidad IDN    Detalle\n",
      "0   Diego           AR  AR   Agentina\n",
      "1  Marina           AR  BR  Brasilera\n",
      "2  Marina           AR  CH    Chilena\n",
      "3  Marina           AR  AR   Agentina\n",
      "4   Diego           AR  BR  Brasilera\n",
      "5   Laura           BR  BR  Brasilera\n",
      "6   Diego           AR  CH    Chilena\n",
      "7   Laura           BR  AR   Agentina\n",
      "8   Laura           BR  CH    Chilena\n"
     ]
    }
   ],
   "source": [
    "\n",
    "#%% # # # # # # # # # # # # # # # # # # # # # # # # # # # # # # # # # # # # # \n",
    " # # # # # # # # # # # # # # # # # # # # # # # # # # # # # # # # # # # # # # \n",
    "# # # # # # # # # # # # # # # # # # # # # # # # # # # # # # # # # # # # # # #\n",
    " # #                                                                     # #\n",
    "# #    FIN -->              EJERCICIO Nro. 02                             # #\n",
    " # #                                                                     # # \n",
    "# # # # # # # # # # # # # # # # # # # # # # # # # # # # # # # # # # # # # # #\n",
    " # # # # # # # # # # # # # # # # # # # # # # # # # # # # # # # # # # # # # # \n",
    "# # # # # # # # # # # # # # # # # # # # # # # # # # # # # # # # # # # # # # #\n",
    "\n",
    "#=============================================================================\n",
    "# Ejercicios AR-... JOIN <-> ... JOIN\n",
    "#=============================================================================\n",
    "# a1.- Listar el producto cartesiano entre las tablas persona y nacionalidades\n",
    "\n",
    "consultaSQL = \"\"\"\n",
    "            SELECT DISTINCT *\n",
    "            FROM persona\n",
    "            CROSS JOIN nacionalidades\n",
    "              \"\"\"\n",
    "\n",
    "dataframeResultado = dd.sql(consultaSQL).df()\n",
    "print(dataframeResultado)\n"
   ]
  },
  {
   "cell_type": "code",
   "execution_count": null,
   "id": "9c9adb61",
   "metadata": {},
   "outputs": [
    {
     "name": "stdout",
     "output_type": "stream",
     "text": [
      "   Nombre Nacionalidad IDN    Detalle\n",
      "0   Laura           BR  AR   Agentina\n",
      "1   Laura           BR  CH    Chilena\n",
      "2  Marina           AR  AR   Agentina\n",
      "3   Diego           AR  AR   Agentina\n",
      "4  Marina           AR  BR  Brasilera\n",
      "5  Marina           AR  CH    Chilena\n",
      "6   Diego           AR  BR  Brasilera\n",
      "7   Laura           BR  BR  Brasilera\n",
      "8   Diego           AR  CH    Chilena\n"
     ]
    }
   ],
   "source": [
    "\n",
    "#%%-----------\n",
    "# a2.- Listar el producto cartesiano entre las tablas persona y nacionalidades (sin usar CROSS JOIN)\n",
    "\n",
    "consultaSQL = \"\"\"\n",
    "            SELECT DISTINCT *\n",
    "            FROM persona , nacionalidades\n",
    "              \"\"\"\n",
    "\n",
    "dataframeResultado = dd.sql(consultaSQL).df()\n",
    "print(dataframeResultado)"
   ]
  },
  {
   "cell_type": "code",
   "execution_count": null,
   "id": "f675a347",
   "metadata": {},
   "outputs": [
    {
     "name": "stdout",
     "output_type": "stream",
     "text": [
      "   Unnamed: 0  Nombre Nacionalidad IDN    Detalle\n",
      "0           0   Diego           BR  BR  Brasilera\n",
      "1           2  Marina           AR  AR   Agentina\n"
     ]
    }
   ],
   "source": [
    "\n",
    "#%% --------------------------------------------------------------------------------------------\n",
    "# Carga los nuevos datos del dataframe persona para los ejercicios de AR-INNER y LEFT OUTER JOIN\n",
    "# ----------------------------------------------------------------------------------------------\n",
    "persona        = pd.read_csv(carpeta+\"persona_ejemplosJoin.csv\")\n",
    "# ----------------------------------------------------------------------------------------------\n",
    "# b1.- Vincular las tablas persona y nacionalidades a través de un INNER JOIN\n",
    "\n",
    "consultaSQL = \"\"\"\n",
    "            SELECT *\n",
    "            FROM persona\n",
    "            INNER JOIN nacionalidades\n",
    "                ON persona.Nacionalidad = nacionalidades.IDN;\n",
    "              \"\"\"\n",
    "\n",
    "dataframeResultado = dd.sql(consultaSQL).df()\n",
    "print(dataframeResultado)"
   ]
  },
  {
   "cell_type": "code",
   "execution_count": null,
   "id": "b1362e71",
   "metadata": {},
   "outputs": [
    {
     "name": "stdout",
     "output_type": "stream",
     "text": [
      "   Unnamed: 0    Nombre Nacionalidad   IDN    Detalle\n",
      "0           0     Diego           BR    BR  Brasilera\n",
      "1           2    Marina           AR    AR   Agentina\n",
      "2           1     Laura         None  None       None\n",
      "3           3  Santiago           UY  None       None\n"
     ]
    }
   ],
   "source": [
    "\n",
    "#%%-----------\n",
    "# b2.- Vincular las tablas persona y nacionalidades (sin usar INNER JOIN)\n",
    "\n",
    "consultaSQL = \"\"\"\n",
    "            SELECT *\n",
    "            FROM persona\n",
    "            LEFT JOIN nacionalidades\n",
    "                ON persona.Nacionalidad = nacionalidades.IDN;\n",
    "              \"\"\"\n",
    "\n",
    "dataframeResultado = dd.sql(consultaSQL).df()\n",
    "print(dataframeResultado)\n"
   ]
  },
  {
   "cell_type": "code",
   "execution_count": null,
   "id": "32b2598b",
   "metadata": {},
   "outputs": [
    {
     "name": "stdout",
     "output_type": "stream",
     "text": [
      "   Unnamed: 0    Nombre Nacionalidad   IDN    Detalle\n",
      "0           0     Diego           BR    BR  Brasilera\n",
      "1           2    Marina           AR    AR   Agentina\n",
      "2           1     Laura         None  None       None\n",
      "3           3  Santiago           UY  None       None\n"
     ]
    }
   ],
   "source": [
    "\n",
    "#%%-----------\n",
    "# c.- Vincular las tablas persona y nacionalidades a través de un LEFT OUTER JOIN\n",
    "consultaSQL = \"\"\"\n",
    "            SELECT *\n",
    "            FROM persona\n",
    "            LEFT OUTER JOIN nacionalidades\n",
    "                ON persona.Nacionalidad = nacionalidades.IDN;\n",
    "              \"\"\"\n",
    "\n",
    "dataframeResultado = dd.sql(consultaSQL).df()\n",
    "print(dataframeResultado)"
   ]
  },
  {
   "cell_type": "code",
   "execution_count": null,
   "id": "4b006a43",
   "metadata": {},
   "outputs": [
    {
     "name": "stdout",
     "output_type": "stream",
     "text": [
      "    Ciudad\n",
      "0  Londres\n"
     ]
    }
   ],
   "source": [
    "\n",
    "#%% # # # # # # # # # # # # # # # # # # # # # # # # # # # # # # # # # # # # # \n",
    " # # # # # # # # # # # # # # # # # # # # # # # # # # # # # # # # # # # # # # \n",
    "# # # # # # # # # # # # # # # # # # # # # # # # # # # # # # # # # # # # # # #\n",
    " # #                                                                     # #\n",
    "# #    INICIO -->           EJERCICIO Nro. 03                             # #\n",
    " # #                                                                     # # \n",
    "# # # # # # # # # # # # # # # # # # # # # # # # # # # # # # # # # # # # # # #\n",
    " # # # # # # # # # # # # # # # # # # # # # # # # # # # # # # # # # # # # # # \n",
    "# # # # # # # # # # # # # # # # # # # # # # # # # # # # # # # # # # # # # # #\n",
    "\n",
    "# IMPORTANTE: Recordar que se utilizaran los datos de vuelo, aeropuerto, pasajero y reserva\n",
    "\n",
    "#%%===========================================================================\n",
    "# EJERCICIOS PARA REALIZAR DE MANERA INDIVIDUAL --> EJERCICIO Nro. 03\n",
    "#=============================================================================\n",
    "# Ejercicio 03.1.- Devolver el nombre de la ciudad de partida del vuelo número 165\n",
    "\n",
    "consultaSQL = \"\"\"\n",
    "            SELECT Ciudad\n",
    "            FROM aeropuerto\n",
    "            INNER JOIN vuelo\n",
    "             ON Codigo = Origen\n",
    "             WHERE Numero =  165 \n",
    "                \n",
    "\n",
    "              \"\"\"\n",
    "\n",
    "dataframeResultado = dd.sql(consultaSQL).df()\n",
    "print(dataframeResultado)"
   ]
  },
  {
   "cell_type": "code",
   "execution_count": null,
   "id": "babc677b",
   "metadata": {},
   "outputs": [
    {
     "name": "stdout",
     "output_type": "stream",
     "text": [
      "  Nombre\n",
      "0  Maria\n",
      "1  Pedro\n"
     ]
    }
   ],
   "source": [
    "\n",
    "#%%-----------\n",
    "# Ejercicio 03.2.- Retornar el nombre de las personas que realizaron reservas a un valor menor a $200\n",
    "\n",
    "consultaSQL = \"\"\"\n",
    "            SELECT Nombre\n",
    "            FROM pasajero\n",
    "            INNER JOIN reserva\n",
    "                ON reserva.DNI =  pasajero.DNI\n",
    "            WHERE Precio < 200\n",
    "\n",
    "              \"\"\"\n",
    "dataframeResultado = dd.sql(consultaSQL).df()\n",
    "print(dataframeResultado)\n"
   ]
  },
  {
   "cell_type": "code",
   "execution_count": null,
   "id": "86c2ee02",
   "metadata": {},
   "outputs": [
    {
     "name": "stdout",
     "output_type": "stream",
     "text": [
      "   Numero Origen Destino Salida Codigo   Nombre  Ciudad\n",
      "0     345    MAD     CDG  12:30    MAD  Barajas  Madrid\n",
      "1     321    MAD     ORY  19:05    MAD  Barajas  Madrid\n"
     ]
    }
   ],
   "source": [
    "\n",
    "#%%-----------\n",
    "# Ejercicio 03.3.- Obtener Nombre, Fecha y Destino del Viaje de todos los pasajeros que vuelan desde Madrid\n",
    "\n",
    "vuelosAMadrid = dd.sql(\"\"\"\n",
    "            SELECT *\n",
    "            FROM vuelo\n",
    "            INNER JOIN aeropuerto\n",
    "               ON Codigo = Origen\n",
    "            WHERE Ciudad = 'Madrid'\n",
    "              \"\"\").df()\n",
    "\n",
    "print(vuelosAMadrid)\n",
    "\n",
    "\n"
   ]
  },
  {
   "cell_type": "code",
   "execution_count": null,
   "id": "390572e7",
   "metadata": {},
   "outputs": [
    {
     "name": "stdout",
     "output_type": "stream",
     "text": [
      "   DNI  Nombre  DNI_1  NroVuelo     Fecha  Precio\n",
      "0  789  Isabel    789       165  07-01-11   210.0\n",
      "1  123   Maria    123       345  20-12-10   170.0\n",
      "2  789  Isabel    789       321  15-12-10   250.0\n",
      "3  456   Pedro    456       345  03-11-10   190.0\n"
     ]
    }
   ],
   "source": [
    "\n",
    "dniPersonasDesdeMadrid = dd.sql(\"\"\"\n",
    "            SELECT *\n",
    "            FROM pasajero\n",
    "            INNER JOIN reserva\n",
    "                ON reserva.DNI =  pasajero.DNI\n",
    "                                \n",
    "\n",
    "              \"\"\").df()\n",
    "print(dniPersonasDesdeMadrid)"
   ]
  },
  {
   "cell_type": "code",
   "execution_count": null,
   "id": "4530b69c",
   "metadata": {},
   "outputs": [
    {
     "name": "stdout",
     "output_type": "stream",
     "text": [
      "   Nombre     Fecha Destino\n",
      "0   Maria  20-12-10     CDG\n",
      "1  Isabel  15-12-10     ORY\n",
      "2   Pedro  03-11-10     CDG\n"
     ]
    }
   ],
   "source": [
    "\n",
    "consultaSQL = \"\"\"\n",
    "            SELECT  dniPersonasDesdeMadrid.Nombre, Fecha, Destino\n",
    "            FROM dniPersonasDesdeMadrid INNER JOIN vuelosAMadrid ON NroVuelo = Numero\n",
    "              \"\"\"\n",
    "\n",
    "dataframeResultado = dd.sql(consultaSQL).df()\n",
    "print(dataframeResultado)"
   ]
  },
  {
   "cell_type": "code",
   "execution_count": null,
   "id": "e6baa5df",
   "metadata": {},
   "outputs": [
    {
     "name": "stdout",
     "output_type": "stream",
     "text": [
      "      Fecha Salida  Nombre\n",
      "0  03-11-10  12:30   Pedro\n",
      "1  15-12-10  19:05  Isabel\n",
      "2  07-01-11  09:55  Isabel\n",
      "3  20-12-10  12:30   Maria\n"
     ]
    }
   ],
   "source": [
    "#%% # # # # # # # # # # # # # # # # # # # # # # # # # # # # # # # # # # # # # \n",
    " # # # # # # # # # # # # # # # # # # # # # # # # # # # # # # # # # # # # # # \n",
    "# # # # # # # # # # # # # # # # # # # # # # # # # # # # # # # # # # # # # # #\n",
    " # #                                                                     # #\n",
    "# #    FIN -->              EJERCICIO Nro. 03                             # #\n",
    " # #                                                                     # # \n",
    "# # # # # # # # # # # # # # # # # # # # # # # # # # # # # # # # # # # # # # #\n",
    " # # # # # # # # # # # # # # # # # # # # # # # # # # # # # # # # # # # # # # \n",
    "# # # # # # # # # # # # # # # # # # # # # # # # # # # # # # # # # # # # # # #\n",
    "\n",
    "    \n",
    "#%%===========================================================================\n",
    "# Ejercicios SQL - Join de varias tablas en simultáneo\n",
    "#=============================================================================\n",
    "# a.- Vincular las tablas Reserva, Pasajero y Vuelo. Mostrar sólo Fecha de reserva, hora de salida del vuelo y nombre de pasajero.\n",
    "    \n",
    "consultaSQL = \"\"\"\n",
    "            SELECT Fecha, Salida, pasajero.Nombre\n",
    "            FROM reserva INNER JOIN pasajero ON reserva.DNI =  pasajero.DNI \n",
    "            INNER JOIN vuelo ON reserva.NroVuelo = vuelo.Numero\n",
    "              \"\"\"\n",
    "\n",
    "dataframeResultado = dd.sql(consultaSQL).df()\n",
    "print(dataframeResultado)\n"
   ]
  },
  {
   "cell_type": "code",
   "execution_count": null,
   "id": "ba08241f",
   "metadata": {},
   "outputs": [
    {
     "name": "stdout",
     "output_type": "stream",
     "text": [
      "  empleado            rol          rol_1 proyecto\n",
      "0      Ana    Diseñador/a    Diseñador/a      BNA\n",
      "1      Ana  Programador/a  Programador/a      BNA\n",
      "2    Bruno    Diseñador/a    Diseñador/a      BNA\n",
      "3      Ana    Diseñador/a    Diseñador/a      YPF\n",
      "4    Bruno    Diseñador/a    Diseñador/a      YPF\n"
     ]
    }
   ],
   "source": [
    "\n",
    "    \n",
    "#%%===========================================================================\n",
    "# Ejercicios SQL - Tuplas espúreas\n",
    "#=============================================================================\n",
    "# a.- Vincular (JOIN)  EmpleadoRol y RolProyecto para obtener la tabla original EmpleadoRolProyecto\n",
    "    \n",
    "consultaSQL = \"\"\"\n",
    "            SELECT *\n",
    "            FROM empleadoRol , rolProyecto WHERE empleadoRol.rol =  rolProyecto.rol\n",
    "              \"\"\"\n",
    "\n",
    "dataframeResultado = dd.sql(consultaSQL).df()\n",
    "print(dataframeResultado)"
   ]
  },
  {
   "cell_type": "code",
   "execution_count": 18,
   "id": "1250155a",
   "metadata": {},
   "outputs": [
    {
     "name": "stdout",
     "output_type": "stream",
     "text": [
      "   cantidadExamenes\n",
      "0                16\n"
     ]
    }
   ],
   "source": [
    "\n",
    "#%%===========================================================================\n",
    "# Ejercicios SQL - Funciones de agregación\n",
    "#=============================================================================\n",
    "# a.- Usando sólo SELECT contar cuántos exámenes fueron rendidos (en total)\n",
    "    \n",
    "consultaSQL = \"\"\"\n",
    "            SELECT count(*) AS cantidadExamenes\n",
    "            FROM examen\n",
    "              \"\"\"\n",
    "\n",
    "dataframeResultado = dd.sql(consultaSQL).df()\n",
    "print(dataframeResultado)"
   ]
  },
  {
   "cell_type": "code",
   "execution_count": 72,
   "id": "d4cc4259",
   "metadata": {},
   "outputs": [
    {
     "name": "stdout",
     "output_type": "stream",
     "text": [
      "          Instancia  Examenes\n",
      "0        Parcial-01         6\n",
      "1        Parcial-02         5\n",
      "2  Recuperatorio-01         3\n",
      "3  Recuperatorio-02         2\n"
     ]
    }
   ],
   "source": [
    "#%%-----------\n",
    "# b1.- Usando sólo SELECT contar cuántos exámenes fueron rendidos en cada Instancia\n",
    "columna = 'Instancia'\n",
    "consultaSQL = f\"\"\"\n",
    "            SELECT {columna},count(*) AS Examenes\n",
    "            FROM examen\n",
    "            GROUP BY {columna}\n",
    "              \"\"\"\n",
    "\n",
    "dataframeResultado = dd.sql(consultaSQL).df()\n",
    "print(dataframeResultado)"
   ]
  },
  {
   "cell_type": "code",
   "execution_count": 87,
   "id": "fcf4341d",
   "metadata": {},
   "outputs": [
    {
     "name": "stdout",
     "output_type": "stream",
     "text": [
      "          Instancia  Asistieron\n",
      "0        Parcial-01           6\n",
      "1        Parcial-02           5\n",
      "2  Recuperatorio-01           3\n",
      "3  Recuperatorio-02           2\n"
     ]
    }
   ],
   "source": [
    "\n",
    "#%%-----------\n",
    "# b2.- Usando sólo SELECT contar cuántos exámenes fueron rendidos en cada Instancia (ordenado por instancia)\n",
    "    \n",
    "consultaSQL = \"\"\"\n",
    "            SELECT Instancia, count(*) AS Asistieron\n",
    "            FROM examen GROUP BY Instancia \n",
    "            ORDER BY Instancia ASC;\n",
    "              \"\"\"\n",
    "\n",
    "dataframeResultado = dd.sql(consultaSQL).df()\n",
    "print(dataframeResultado)"
   ]
  },
  {
   "cell_type": "code",
   "execution_count": 91,
   "id": "99cbffb3",
   "metadata": {},
   "outputs": [
    {
     "name": "stdout",
     "output_type": "stream",
     "text": [
      "          Instancia  Asistieron\n",
      "0  Recuperatorio-01           3\n",
      "1  Recuperatorio-02           2\n"
     ]
    }
   ],
   "source": [
    "\n",
    "#%%-----------\n",
    "# b3.- Ídem ejercicio anterior, pero mostrar sólo las instancias a las que asistieron menos de 4 Estudiantes\n",
    "    \n",
    "consultaSQL = \"\"\"\n",
    "            SELECT Instancia, count(*) AS Asistieron\n",
    "            FROM examen GROUP BY Instancia \n",
    "            HAVING Asistieron < 4\n",
    "            ORDER BY Instancia ASC;\n",
    "              \"\"\"\n",
    "\n",
    "dataframeResultado = dd.sql(consultaSQL).df()\n",
    "print(dataframeResultado)"
   ]
  },
  {
   "cell_type": "code",
   "execution_count": 93,
   "id": "39d7151a",
   "metadata": {},
   "outputs": [
    {
     "data": {
      "text/html": [
       "<div>\n",
       "<style scoped>\n",
       "    .dataframe tbody tr th:only-of-type {\n",
       "        vertical-align: middle;\n",
       "    }\n",
       "\n",
       "    .dataframe tbody tr th {\n",
       "        vertical-align: top;\n",
       "    }\n",
       "\n",
       "    .dataframe thead th {\n",
       "        text-align: right;\n",
       "    }\n",
       "</style>\n",
       "<table border=\"1\" class=\"dataframe\">\n",
       "  <thead>\n",
       "    <tr style=\"text-align: right;\">\n",
       "      <th></th>\n",
       "      <th>Instancia</th>\n",
       "      <th>EdadPromedio</th>\n",
       "    </tr>\n",
       "  </thead>\n",
       "  <tbody>\n",
       "    <tr>\n",
       "      <th>0</th>\n",
       "      <td>Parcial-01</td>\n",
       "      <td>21.833333</td>\n",
       "    </tr>\n",
       "    <tr>\n",
       "      <th>1</th>\n",
       "      <td>Parcial-02</td>\n",
       "      <td>21.800000</td>\n",
       "    </tr>\n",
       "    <tr>\n",
       "      <th>2</th>\n",
       "      <td>Recuperatorio-01</td>\n",
       "      <td>19.666667</td>\n",
       "    </tr>\n",
       "    <tr>\n",
       "      <th>3</th>\n",
       "      <td>Recuperatorio-02</td>\n",
       "      <td>21.000000</td>\n",
       "    </tr>\n",
       "  </tbody>\n",
       "</table>\n",
       "</div>"
      ],
      "text/plain": [
       "          Instancia  EdadPromedio\n",
       "0        Parcial-01     21.833333\n",
       "1        Parcial-02     21.800000\n",
       "2  Recuperatorio-01     19.666667\n",
       "3  Recuperatorio-02     21.000000"
      ]
     },
     "execution_count": 93,
     "metadata": {},
     "output_type": "execute_result"
    }
   ],
   "source": [
    "\n",
    "#%%-----------\n",
    "# c.- Mostrar el promedio de edad de los estudiantes en cada instancia de examen\n",
    "    \n",
    "consultaSQL = \"\"\"\n",
    "            SELECT Instancia, AVG(Edad) AS EdadPromedio\n",
    "            FROM examen GROUP BY Instancia \n",
    "            ORDER BY Instancia ASC;\n",
    "              \"\"\"\n",
    "\n",
    "dataframeResultado = dd.sql(consultaSQL).df()\n",
    "dataframeResultado"
   ]
  },
  {
   "cell_type": "code",
   "execution_count": null,
   "id": "1fc46924",
   "metadata": {},
   "outputs": [
    {
     "data": {
      "text/html": [
       "<div>\n",
       "<style scoped>\n",
       "    .dataframe tbody tr th:only-of-type {\n",
       "        vertical-align: middle;\n",
       "    }\n",
       "\n",
       "    .dataframe tbody tr th {\n",
       "        vertical-align: top;\n",
       "    }\n",
       "\n",
       "    .dataframe thead th {\n",
       "        text-align: right;\n",
       "    }\n",
       "</style>\n",
       "<table border=\"1\" class=\"dataframe\">\n",
       "  <thead>\n",
       "    <tr style=\"text-align: right;\">\n",
       "      <th></th>\n",
       "      <th>Instancia</th>\n",
       "      <th>NotaPromedio</th>\n",
       "    </tr>\n",
       "  </thead>\n",
       "  <tbody>\n",
       "    <tr>\n",
       "      <th>0</th>\n",
       "      <td>Parcial-01</td>\n",
       "      <td>5.166667</td>\n",
       "    </tr>\n",
       "    <tr>\n",
       "      <th>1</th>\n",
       "      <td>Parcial-02</td>\n",
       "      <td>6.800000</td>\n",
       "    </tr>\n",
       "  </tbody>\n",
       "</table>\n",
       "</div>"
      ],
      "text/plain": [
       "    Instancia  NotaPromedio\n",
       "0  Parcial-01      5.166667\n",
       "1  Parcial-02      6.800000"
      ]
     },
     "execution_count": 99,
     "metadata": {},
     "output_type": "execute_result"
    }
   ],
   "source": [
    "\n",
    "#%%===========================================================================\n",
    "# Ejercicios SQL - LIKE\")\n",
    "#=============================================================================\n",
    "# a1.- Mostrar cuál fue el promedio de notas en cada instancia de examen, sólo para instancias de parcial.\n",
    "    \n",
    "consultaSQL = \"\"\"\n",
    "            SELECT Instancia, AVG(Nota) AS NotaPromedio\n",
    "            FROM examen GROUP BY Instancia \n",
    "            HAVING instancia='Parcial-01' OR instancia='Parcial-02'\n",
    "            ORDER BY Instancia ASC\n",
    "              \"\"\"\n",
    "\n",
    "dataframeResultado = dd.sql(consultaSQL).df()\n",
    "dataframeResultado"
   ]
  },
  {
   "cell_type": "code",
   "execution_count": 104,
   "id": "a91cdfa6",
   "metadata": {},
   "outputs": [
    {
     "data": {
      "text/html": [
       "<div>\n",
       "<style scoped>\n",
       "    .dataframe tbody tr th:only-of-type {\n",
       "        vertical-align: middle;\n",
       "    }\n",
       "\n",
       "    .dataframe tbody tr th {\n",
       "        vertical-align: top;\n",
       "    }\n",
       "\n",
       "    .dataframe thead th {\n",
       "        text-align: right;\n",
       "    }\n",
       "</style>\n",
       "<table border=\"1\" class=\"dataframe\">\n",
       "  <thead>\n",
       "    <tr style=\"text-align: right;\">\n",
       "      <th></th>\n",
       "      <th>Instancia</th>\n",
       "      <th>NotaPromedio</th>\n",
       "    </tr>\n",
       "  </thead>\n",
       "  <tbody>\n",
       "    <tr>\n",
       "      <th>0</th>\n",
       "      <td>Parcial-01</td>\n",
       "      <td>5.166667</td>\n",
       "    </tr>\n",
       "    <tr>\n",
       "      <th>1</th>\n",
       "      <td>Parcial-02</td>\n",
       "      <td>6.800000</td>\n",
       "    </tr>\n",
       "  </tbody>\n",
       "</table>\n",
       "</div>"
      ],
      "text/plain": [
       "    Instancia  NotaPromedio\n",
       "0  Parcial-01      5.166667\n",
       "1  Parcial-02      6.800000"
      ]
     },
     "execution_count": 104,
     "metadata": {},
     "output_type": "execute_result"
    }
   ],
   "source": [
    "#%%-----------\n",
    "# a2.- Mostrar cuál fue el promedio de notas en cada instancia de examen, sólo para instancias de parcial. Esta vez usando LIKE.\n",
    "    \n",
    "consultaSQL = \"\"\"\n",
    "            SELECT Instancia, AVG(Nota) AS NotaPromedio\n",
    "            FROM examen GROUP BY Instancia \n",
    "            HAVING instancia LIKE'P%'\n",
    "            ORDER BY Instancia ASC\n",
    "              \"\"\"\n",
    "\n",
    "dataframeResultado = dd.sql(consultaSQL).df()\n",
    "dataframeResultado"
   ]
  },
  {
   "cell_type": "code",
   "execution_count": null,
   "id": "4bac4951",
   "metadata": {},
   "outputs": [
    {
     "data": {
      "text/html": [
       "<div>\n",
       "<style scoped>\n",
       "    .dataframe tbody tr th:only-of-type {\n",
       "        vertical-align: middle;\n",
       "    }\n",
       "\n",
       "    .dataframe tbody tr th {\n",
       "        vertical-align: top;\n",
       "    }\n",
       "\n",
       "    .dataframe thead th {\n",
       "        text-align: right;\n",
       "    }\n",
       "</style>\n",
       "<table border=\"1\" class=\"dataframe\">\n",
       "  <thead>\n",
       "    <tr style=\"text-align: right;\">\n",
       "      <th></th>\n",
       "      <th>Instancia</th>\n",
       "      <th>Estado</th>\n",
       "      <th>Cantidad</th>\n",
       "    </tr>\n",
       "  </thead>\n",
       "  <tbody>\n",
       "    <tr>\n",
       "      <th>0</th>\n",
       "      <td>Parcial-01</td>\n",
       "      <td>APROBÓ</td>\n",
       "      <td>3</td>\n",
       "    </tr>\n",
       "    <tr>\n",
       "      <th>1</th>\n",
       "      <td>Parcial-01</td>\n",
       "      <td>NO APROBÓ</td>\n",
       "      <td>3</td>\n",
       "    </tr>\n",
       "  </tbody>\n",
       "</table>\n",
       "</div>"
      ],
      "text/plain": [
       "    Instancia     Estado  Cantidad\n",
       "0  Parcial-01     APROBÓ         3\n",
       "1  Parcial-01  NO APROBÓ         3"
      ]
     },
     "execution_count": 147,
     "metadata": {},
     "output_type": "execute_result"
    }
   ],
   "source": [
    "\n",
    "\n",
    "#%%-----------\n",
    "# a2.- Modificar la consulta anterior para que informe cuántos estudiantes aprobaron/reprobaron en cada instancia.\n",
    "    \n",
    "consultaSQL = \"\"\"\n",
    "                SELECT INSTANCIA,\n",
    "                    CASE WHEN Nota>=4\n",
    "                      THEN 'APROBÓ'\n",
    "                      ELSE 'NO APROBÓ'\n",
    "                    END AS Estado,\n",
    "                  \n",
    "                count(*) AS Cantidad\n",
    "                    \n",
    "                FROM examen\n",
    "                GROUP BY Instancia,Estado\n",
    "                HAVING Instancia= 'Parcial-01'\n",
    "                \n",
    "                ORDER BY Instancia,Estado\n",
    "              \"\"\"\n",
    "\n",
    "dataframeResultado = dd.sql(consultaSQL).df()\n",
    "dataframeResultado\n"
   ]
  },
  {
   "cell_type": "code",
   "execution_count": 140,
   "id": "0757f8e0",
   "metadata": {},
   "outputs": [
    {
     "ename": "ParserException",
     "evalue": "Parser Error: syntax error at or near \"THEN\"\n\nLINE 4:                     THEN 'NOMBRE'\n                            ^",
     "output_type": "error",
     "traceback": [
      "\u001b[31m---------------------------------------------------------------------------\u001b[39m",
      "\u001b[31mParserException\u001b[39m                           Traceback (most recent call last)",
      "\u001b[36mCell\u001b[39m\u001b[36m \u001b[39m\u001b[32mIn[140]\u001b[39m\u001b[32m, line 14\u001b[39m\n\u001b[32m      1\u001b[39m \u001b[38;5;66;03m#%%===========================================================================\u001b[39;00m\n\u001b[32m      2\u001b[39m \u001b[38;5;66;03m# Ejercicios SQL - Subqueries\u001b[39;00m\n\u001b[32m      3\u001b[39m \u001b[38;5;66;03m#=============================================================================\u001b[39;00m\n\u001b[32m      4\u001b[39m \u001b[38;5;66;03m#a.- Listar los alumnos que en cada instancia obtuvieron una nota mayor al promedio de dicha instancia\u001b[39;00m\n\u001b[32m      6\u001b[39m consultaSQL = \u001b[33m\"\"\"\u001b[39m\n\u001b[32m      7\u001b[39m \u001b[33m                SELECT INSTANCIA, \u001b[39m\n\u001b[32m      8\u001b[39m \u001b[33m                CASE NOTA >= AVG(Nota)\u001b[39m\n\u001b[32m   (...)\u001b[39m\u001b[32m     11\u001b[39m \u001b[33m                GROUP BY Instancia\u001b[39m\n\u001b[32m     12\u001b[39m \u001b[33m              \u001b[39m\u001b[33m\"\"\"\u001b[39m\n\u001b[32m---> \u001b[39m\u001b[32m14\u001b[39m dataframeResultado = \u001b[43mdd\u001b[49m\u001b[43m.\u001b[49m\u001b[43msql\u001b[49m\u001b[43m(\u001b[49m\u001b[43mconsultaSQL\u001b[49m\u001b[43m)\u001b[49m.df()\n\u001b[32m     15\u001b[39m dataframeResultado\n",
      "\u001b[31mParserException\u001b[39m: Parser Error: syntax error at or near \"THEN\"\n\nLINE 4:                     THEN 'NOMBRE'\n                            ^"
     ]
    }
   ],
   "source": [
    "\n",
    "#%%===========================================================================\n",
    "# Ejercicios SQL - Subqueries\n",
    "#=============================================================================\n",
    "#a.- Listar los alumnos que en cada instancia obtuvieron una nota mayor al promedio de dicha instancia\n",
    "\n",
    "consultaSQL = \"\"\"\n",
    "                SELECT INSTANCIA, \n",
    "                CASE NOTA >= AVG(Nota)\n",
    "                    THEN 'NOMBRE'\n",
    "                FROM examen\n",
    "                GROUP BY Instancia\n",
    "              \"\"\"\n",
    "\n",
    "dataframeResultado = dd.sql(consultaSQL).df()\n",
    "dataframeResultado"
   ]
  },
  {
   "cell_type": "code",
   "execution_count": null,
   "id": "3c845ce9",
   "metadata": {},
   "outputs": [],
   "source": [
    "\n",
    "\n",
    "\n",
    "#%%-----------\n",
    "# b.- Listar los alumnos que en cada instancia obtuvieron la mayor nota de dicha instancia\n",
    "\n",
    "consultaSQL = \"\"\"\n",
    "\n",
    "              \"\"\"\n",
    "\n",
    "dataframeResultado = dd.sql(consultaSQL).df()\n",
    "\n",
    "\n",
    "#%%-----------\n",
    "# c.- Listar el nombre, instancia y nota sólo de los estudiantes que no rindieron ningún Recuperatorio\n",
    "\n",
    "consultaSQL = \"\"\"\n",
    "\n",
    "              \"\"\"\n",
    "\n",
    "dataframeResultado = dd.sql(consultaSQL).df()\n"
   ]
  }
 ],
 "metadata": {
  "kernelspec": {
   "display_name": ".venv",
   "language": "python",
   "name": "python3"
  },
  "language_info": {
   "codemirror_mode": {
    "name": "ipython",
    "version": 3
   },
   "file_extension": ".py",
   "mimetype": "text/x-python",
   "name": "python",
   "nbconvert_exporter": "python",
   "pygments_lexer": "ipython3",
   "version": "3.12.3"
  }
 },
 "nbformat": 4,
 "nbformat_minor": 5
}
