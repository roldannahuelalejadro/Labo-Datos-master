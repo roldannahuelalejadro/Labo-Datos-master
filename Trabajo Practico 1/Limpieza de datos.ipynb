{
 "cells": [
  {
   "cell_type": "code",
   "execution_count": null,
   "id": "f0fcf026",
   "metadata": {},
   "outputs": [],
   "source": [
    "import pandas as pd\n",
    "import duckdb as dd\n",
    "import sys\n",
    "import os\n",
    "\n",
    "carpeta = \"TablasOriginales\"\n",
    "\n",
    "padron_poblacion =  pd.read_excel(carpeta + \"/padron_poblacion.xlsX\")\n",
    "datos_departamento = pd.read_csv(carpeta + \"/Datos_por_departamento_actividad_y_sexo.csv\")\n",
    "padron_establecimientos_educativos  = pd.read_excel(carpeta + \"/2022_padron_oficial_establecimientos_educativos.xlsx\", skiprows = 6)\n",
    "actividades_establecimientos_productivos = pd.read_csv(carpeta + \"/actividades_establecimientos.csv\")\n",
    "\n"
   ]
  },
  {
   "cell_type": "markdown",
   "id": "693106ed",
   "metadata": {},
   "source": [
    "# Limpieza padron_poblacion\n"
   ]
  },
  {
   "cell_type": "code",
   "execution_count": 3,
   "id": "16142802",
   "metadata": {},
   "outputs": [],
   "source": [
    "\n",
    "carpeta = \"TablasOriginales\"\n",
    "\n",
    "padron_poblacion =  pd.read_excel(carpeta + \"/padron_poblacion.xlsX\")\n",
    "\n",
    "padron_poblacion.columns = ['nada', 'edad', 'casos', 'porcentaje', 'porcentaje_acumulado']\n",
    "padron_poblacion.columns\n",
    "\n",
    "\n",
    "edad_index = []\n",
    "total_index = []\n",
    "areas = []\n",
    "counter = 0\n",
    "counter_total = 0\n",
    "for i in range(len(padron_poblacion['edad'].tolist())): # saco los indices de fila donde aparece Edad \n",
    "    if padron_poblacion['edad'].tolist()[i] == 'Edad':\n",
    "        counter += 1\n",
    "        edad_index.append(i+1)\n",
    "        areas.append(padron_poblacion['casos'].tolist()[i-2])\n",
    "\n",
    "\n",
    "for i in range(len(padron_poblacion['edad'].tolist())): # saco los indices de fila donde aparece Total\n",
    "    if padron_poblacion['edad'].tolist()[i] == 'Total':\n",
    "        total_index.append(i)\n",
    "        counter_total += 1\n",
    "\n",
    "if  counter != counter_total:\n",
    "    print(\"Error: Tamaños de indexacion diferentes\")\n",
    "    sys.exit()\n",
    "\n",
    "\n",
    "df_list = []\n",
    "for index in range(counter-1):\n",
    "    edad = padron_poblacion['edad'][edad_index[index]: total_index[index]].tolist()\n",
    "    casos = padron_poblacion['casos'][edad_index[index]: total_index[index]].tolist()\n",
    "    porcentaje = padron_poblacion['porcentaje'][edad_index[index]: total_index[index]].tolist()\n",
    "    porcentaje_acumulado = padron_poblacion['porcentaje_acumulado'][edad_index[index]: total_index[index]].tolist()\n",
    "    \n",
    "    data = {\n",
    "        'edad': edad,\n",
    "        'casos': casos,\n",
    "        'porcentaje': porcentaje,\n",
    "        'porcentaje_acumulado': porcentaje_acumulado\n",
    "    }\n",
    "\n",
    "    df_ = pd.DataFrame(data)\n",
    "\n",
    "    ruta_subcarpeta = os.path.join('TablasModificadas', 'Padrones')\n",
    "\n",
    "    os.makedirs(ruta_subcarpeta, exist_ok=True)\n",
    "\n",
    "    ruta_archivo = os.path.join(ruta_subcarpeta, f'padron_poblacion_{areas[index]}.csv')\n",
    "    df_.to_csv(ruta_archivo, index=False)\n",
    "    \n",
    "    df_list.append(df_)\n",
    "\n"
   ]
  },
  {
   "cell_type": "markdown",
   "id": "d77a5d10",
   "metadata": {},
   "source": [
    "# Limpieza Datos_departamento_por_actividad_y_genero"
   ]
  },
  {
   "cell_type": "code",
   "execution_count": 22,
   "id": "4bea53c5",
   "metadata": {},
   "outputs": [
    {
     "name": "stdout",
     "output_type": "stream",
     "text": [
      "445\n",
      "528\n"
     ]
    },
    {
     "data": {
      "text/plain": [
       "[]"
      ]
     },
     "execution_count": 22,
     "metadata": {},
     "output_type": "execute_result"
    }
   ],
   "source": [
    "datos_departamento\n",
    "consultaSQL = \"\"\"\n",
    "SELECT DISTINCT departamento\n",
    "FROM datos_departamento \n",
    "              \"\"\"\n",
    "\n",
    "dataframeResultado = dd.sql(consultaSQL).df()\n",
    "dataframeResultado\n",
    "\n",
    "EP_deparatementos = list(dataframeResultado['departamento'])\n",
    "conjunto1 = set(areas)\n",
    "interseccion_set = conjunto1.intersection(EP_deparatementos)\n",
    "interseccion_lista = list(interseccion_set)\n",
    "\n",
    "print(len(interseccion_lista))  \n",
    "print(len(areas))  \n",
    "[x for x in EP_deparatementos if x not in interseccion_lista]"
   ]
  },
  {
   "cell_type": "code",
   "execution_count": 5,
   "id": "c2fcde6e",
   "metadata": {},
   "outputs": [
    {
     "name": "stdout",
     "output_type": "stream",
     "text": [
      "False\n",
      "False\n"
     ]
    }
   ],
   "source": [
    "print('1º de Mayo' == '1° de Mayo' )\n",
    "print('Puan' == 'Puán')"
   ]
  },
  {
   "cell_type": "code",
   "execution_count": null,
   "id": "95d4723c",
   "metadata": {},
   "outputs": [
    {
     "name": "stdout",
     "output_type": "stream",
     "text": [
      "['Comuna 1' 'Comuna 2' 'Comuna 3' 'Comuna 4' 'Comuna 5' 'Comuna 6'\n",
      " 'Comuna 7' 'Comuna 8' 'Comuna 9' 'Comuna 10' 'Comuna 11' 'Comuna 12'\n",
      " 'Comuna 13' 'Comuna 14' 'Comuna 15' 'Adolfo Alsina'\n",
      " 'Adolfo Gonzales Chaves' 'Alberti' 'Almirante Brown' 'Avellaneda'\n",
      " 'Ayacucho' 'Azul' 'Bahía Blanca' 'Balcarce' 'Baradero' 'Arrecifes'\n",
      " 'Benito Juárez' 'Berazategui' 'Berisso' 'Bolívar' 'Bragado' 'Brandsen'\n",
      " 'Campana' 'Cañuelas' 'Capitán Sarmiento' 'Carlos Casares'\n",
      " 'Carlos Tejedor' 'Carmen de Areco' 'Castelli' 'Colón'\n",
      " 'Coronel de Marina Leonardo Rosales' 'Coronel Dorrego' 'Coronel Pringles'\n",
      " 'Coronel Suárez' 'Chacabuco' 'Chascomús' 'Chivilcoy' 'Daireaux' 'Dolores'\n",
      " 'Ensenada' 'Escobar' 'Esteban Echeverría' 'Exaltación de la Cruz'\n",
      " 'Ezeiza' 'Florencio Varela' 'Florentino Ameghino' 'General Alvarado'\n",
      " 'General Alvear' 'General Arenales' 'General Belgrano' 'General Guido'\n",
      " 'General Juan Madariaga' 'General La Madrid' 'General Las Heras'\n",
      " 'General Lavalle' 'General Paz' 'General Pinto' 'General Pueyrredón'\n",
      " 'General Rodríguez' 'General San Martín' 'General Viamonte'\n",
      " 'General Villegas' 'Guaminí' 'Hipólito Yrigoyen' 'Hurlingham' 'Ituzaingó'\n",
      " 'José C. Paz' 'Junín' 'La Costa' 'La Matanza' 'Lanús' 'La Plata'\n",
      " 'Laprida' 'Las Flores' 'Leandro N. Alem' 'Lezama' 'Lincoln' 'Lobería'\n",
      " 'Lobos' 'Lomas de Zamora' 'Luján' 'Magdalena' 'Maipú'\n",
      " 'Malvinas Argentinas' 'Mar Chiquita' 'Marcos Paz' 'Mercedes' 'Merlo'\n",
      " 'Monte' 'Monte Hermoso' 'Moreno' 'Morón' 'Navarro' 'Necochea'\n",
      " '9 de Julio' 'Olavarría' 'Patagones' 'Pehuajó' 'Pellegrini' 'Pergamino'\n",
      " 'Pila' 'Pilar' 'Pinamar' 'Presidente Perón' 'Puan' 'Punta Indio'\n",
      " 'Quilmes' 'Ramallo' 'Rauch' 'Rivadavia' 'Rojas' 'Roque Pérez' 'Saavedra'\n",
      " 'Saladillo' 'Salto' 'Salliqueló' 'San Andrés de Giles'\n",
      " 'San Antonio de Areco' 'San Cayetano' 'San Fernando' 'San Isidro'\n",
      " 'San Miguel' 'San Nicolás' 'San Pedro' 'San Vicente' 'Suipacha' 'Tandil'\n",
      " 'Tapalqué' 'Tigre' 'Tordillo' 'Tornquist' 'Trenque Lauquen'\n",
      " 'Tres Arroyos' 'Tres de Febrero' 'Tres Lomas' '25 de Mayo'\n",
      " 'Vicente López' 'Villa Gesell' 'Villarino' 'Zárate' 'Ambato' 'Ancasti'\n",
      " 'Andalgalá' 'Antofagasta de la Sierra' 'Belén' 'Capayán' 'Capital'\n",
      " 'El Alto' 'Fray Mamerto Esquiú' 'La Paz' 'Paclín' 'Pomán' 'Santa María'\n",
      " 'Santa Rosa' 'Tinogasta' 'Valle Viejo' 'Calamuchita' 'Cruz del Eje'\n",
      " 'General Roca' 'Ischilín' 'Juárez Celman' 'Marcos Juárez' 'Minas' 'Pocho'\n",
      " 'Presidente Roque Sáenz Peña' 'Punilla' 'Río Cuarto' 'Río Primero'\n",
      " 'Río Seco' 'Río Segundo' 'San Alberto' 'San Javier' 'San Justo'\n",
      " 'Sobremonte' 'Tercero Arriba' 'Totoral' 'Tulumba' 'Unión' 'Bella Vista'\n",
      " 'Berón de Astrada' 'Concepción' 'Curuzú Cuatiá' 'Empedrado' 'Esquina'\n",
      " 'Goya' 'Itatí' 'Lavalle' 'Mburucuyá' 'Monte Caseros' 'Paso de los Libres'\n",
      " 'Saladas' 'San Cosme' 'San Luis del Palmar' 'San Martín' 'San Roque'\n",
      " 'Santo Tomé' 'Sauce' 'Bermejo' 'Comandante Fernández' '12 de Octubre'\n",
      " '2 de Abril' 'Fray Justo Santa María de Oro' 'General Donovan'\n",
      " 'General Güemes' 'Independencia' 'Libertad'\n",
      " 'Libertador General San Martín' 'Mayor Luis J. Fontana' \"O'Higgins\"\n",
      " 'Presidencia de la Plaza' '1º de Mayo' 'Quitilipi' 'San Lorenzo'\n",
      " 'Sargento Cabral' 'Tapenagá' 'Biedma' 'Cushamen' 'Escalante' 'Futaleufú'\n",
      " 'Gaiman' 'Gastre' 'Languiñeo' 'Mártires' 'Paso de Indios' 'Rawson'\n",
      " 'Río Senguer' 'Sarmiento' 'Tehuelches' 'Telsen' 'Concordia' 'Diamante'\n",
      " 'Federación' 'Federal' 'Feliciano' 'Gualeguay' 'Gualeguaychú'\n",
      " 'Islas del Ibicuy' 'Nogoyá' 'Paraná' 'San Salvador' 'Tala' 'Uruguay'\n",
      " 'Victoria' 'Villaguay' 'Formosa' 'Laishi' 'Matacos' 'Patiño' 'Pilagás'\n",
      " 'Pilcomayo' 'Pirané' 'Ramón Lista' 'Cochinoca' 'El Carmen'\n",
      " 'Dr. Manuel Belgrano' 'Humahuaca' 'Ledesma' 'Palpalá' 'Rinconada'\n",
      " 'San Antonio' 'Santa Bárbara' 'Santa Catalina' 'Susques' 'Tilcara'\n",
      " 'Tumbaya' 'Valle Grande' 'Yavi' 'Atreucó' 'Caleu Caleu' 'Catriló'\n",
      " 'Conhelo' 'Curacó' 'Chalileo' 'Chapaleufú' 'Chical Co' 'Guatraché'\n",
      " 'Hucal' 'Lihuel Calel' 'Limay Mahuida' 'Loventué' 'Maracó' 'Puelén'\n",
      " 'Quemú Quemú' 'Rancul' 'Realicó' 'Toay' 'Trenel' 'Utracán' 'Arauco'\n",
      " 'Castro Barros' 'General Felipe Varela' 'Chamical' 'Chilecito' 'Famatina'\n",
      " 'Ángel Vicente Peñaloza' 'General Juan Facundo Quiroga'\n",
      " 'General Lamadrid' 'General Ortiz de Ocampo' 'Vinchina'\n",
      " 'Rosario Vera Peñaloza' 'San Blas de Los Sauces' 'Sanagasta' 'Godoy Cruz'\n",
      " 'Guaymallén' 'Las Heras' 'Luján de Cuyo' 'Malargüe' 'San Carlos'\n",
      " 'San Rafael' 'Tunuyán' 'Tupungato' 'Apóstoles' 'Cainguás' 'Candelaria'\n",
      " 'Eldorado' 'General Manuel Belgrano' 'Guaraní' 'Iguazú' 'Montecarlo'\n",
      " 'Oberá' 'San Ignacio' 'Aluminé' 'Añelo' 'Catán Lil' 'Collón Curá'\n",
      " 'Confluencia' 'Chos Malal' 'Huiliches' 'Lácar' 'Loncopué' 'Los Lagos'\n",
      " 'Ñorquín' 'Pehuenches' 'Picún Leufú' 'Picunches' 'Zapala' 'Bariloche'\n",
      " 'Conesa' 'El Cuy' 'Ñorquinco' 'Pichi Mahuida' 'Pilcaniyeu' 'Valcheta'\n",
      " 'Anta' 'Cachi' 'Cafayate' 'Cerrillos' 'Chicoana'\n",
      " 'General José de San Martín' 'Guachipas' 'Iruya' 'La Caldera'\n",
      " 'La Candelaria' 'La Poma' 'La Viña' 'Los Andes' 'Metán' 'Molinos' 'Orán'\n",
      " 'Rosario de la Frontera' 'Rosario de Lerma' 'Santa Victoria' 'Albardón'\n",
      " 'Angaco' 'Calingasta' 'Caucete' 'Chimbas' 'Iglesia' 'Jáchal' 'Pocito'\n",
      " 'Santa Lucía' 'Ullum' 'Valle Fértil' 'Zonda' 'Belgrano'\n",
      " 'General Pedernera' 'Gobernador Dupuy' 'Juan Martín de Pueyrredón'\n",
      " 'Corpen Aike' 'Deseado' 'Güer Aike' 'Lago Argentino' 'Lago Buenos Aires'\n",
      " 'Magallanes' 'Río Chico' 'Caseros' 'Castellanos' 'Constitución' 'Garay'\n",
      " 'General López' 'General Obligado' 'Iriondo' 'La Capital' 'Las Colonias'\n",
      " 'Rosario' 'San Cristóbal' 'San Jerónimo' 'Vera' 'Aguirre' 'Alberdi'\n",
      " 'Atamisqui' 'Banda' 'Copo' 'Choya' 'Figueroa' 'General Taboada'\n",
      " 'Guasayán' 'Jiménez' 'Juan Felipe Ibarra' 'Loreto' 'Mitre' 'Ojo de Agua'\n",
      " 'Quebrachos' 'Río Hondo' 'Robles' 'Salavina' 'Silípica' 'Burruyacú'\n",
      " 'Cruz Alta' 'Chicligasta' 'Famaillá' 'Graneros' 'Juan Bautista Alberdi'\n",
      " 'La Cocha' 'Leales' 'Lules' 'Monteros' 'Simoca' 'Tafí del Valle'\n",
      " 'Tafí Viejo' 'Trancas' 'Yerba Buena' 'Río Grande' 'Tolhuin' 'Ushuaia']\n",
      "445\n"
     ]
    }
   ],
   "source": [
    "# Cambio el nombre en las columnas de '1º de Mayo' y 'Puan' en el df de EP\n",
    "\n",
    "#saco los indices de los id sucios:\n",
    "datos_departamento['departamento'] = datos_departamento['departamento'].replace({\n",
    "    'Puán': 'Puan',\n",
    "    '1° de Mayo': '1º de Mayo'\n",
    "})\n",
    "print(datos_departamento['departamento'].unique())\n",
    "\n",
    "\n"
   ]
  },
  {
   "cell_type": "code",
   "execution_count": 7,
   "id": "f192e833",
   "metadata": {},
   "outputs": [
    {
     "data": {
      "text/plain": [
       "[]"
      ]
     },
     "execution_count": 7,
     "metadata": {},
     "output_type": "execute_result"
    }
   ],
   "source": [
    "consultaSQL = \"\"\"\n",
    "SELECT DISTINCT departamento\n",
    "FROM datos_departamento \n",
    "              \"\"\"\n",
    "\n",
    "dataframeResultado = dd.sql(consultaSQL).df()\n",
    "dataframeResultado\n",
    "\n",
    "EP_deparatementos = list(dataframeResultado['departamento'])\n",
    "conjunto1 = set(areas)\n",
    "interseccion_set = conjunto1.intersection(EP_deparatementos)\n",
    "interseccion_lista = list(interseccion_set)\n",
    "\n",
    "[x for x in EP_deparatementos if x not in interseccion_lista]\n",
    "\n",
    "# todo joya"
   ]
  },
  {
   "cell_type": "code",
   "execution_count": 8,
   "id": "401c5855",
   "metadata": {},
   "outputs": [
    {
     "data": {
      "application/vnd.microsoft.datawrangler.viewer.v0+json": {
       "columns": [
        {
         "name": "index",
         "rawType": "int64",
         "type": "integer"
        },
        {
         "name": "departamento",
         "rawType": "object",
         "type": "string"
        },
        {
         "name": "clae6",
         "rawType": "int64",
         "type": "integer"
        },
        {
         "name": "empleados",
         "rawType": "float64",
         "type": "float"
        },
        {
         "name": "establecimientos",
         "rawType": "float64",
         "type": "float"
        },
        {
         "name": "empresas_exportadoras",
         "rawType": "float64",
         "type": "float"
        }
       ],
       "ref": "c8acf768-8354-4aea-a615-708115c7f2a4",
       "rows": [
        [
         "0",
         "12 de Octubre",
         "11501",
         "21.0",
         "7.0",
         "6.0"
        ],
        [
         "1",
         "12 de Octubre",
         "461011",
         "31.0",
         "3.0",
         "6.0"
        ],
        [
         "2",
         "12 de Octubre",
         "131110",
         "215.0",
         "7.0",
         "4.0"
        ],
        [
         "3",
         "12 de Octubre",
         "11119",
         "147.0",
         "41.0",
         "4.0"
        ],
        [
         "4",
         "12 de Octubre",
         "530010",
         "1.0",
         "1.0",
         "1.0"
        ],
        [
         "5",
         "12 de Octubre",
         "11121",
         "20.0",
         "1.0",
         "1.0"
        ],
        [
         "6",
         "12 de Octubre",
         "14113",
         "13.0",
         "8.0",
         "0.0"
        ],
        [
         "7",
         "12 de Octubre",
         "16111",
         "5.0",
         "1.0",
         "0.0"
        ],
        [
         "8",
         "12 de Octubre",
         "104011",
         "2.0",
         "1.0",
         "0.0"
        ],
        [
         "9",
         "12 de Octubre",
         "282120",
         "4.0",
         "1.0",
         "0.0"
        ],
        [
         "10",
         "12 de Octubre",
         "471190",
         "3.0",
         "2.0",
         "0.0"
        ],
        [
         "11",
         "12 de Octubre",
         "473000",
         "19.0",
         "4.0",
         "0.0"
        ],
        [
         "12",
         "12 de Octubre",
         "22020",
         "16.0",
         "7.0",
         "0.0"
        ],
        [
         "13",
         "12 de Octubre",
         "602310",
         "5.0",
         "2.0",
         "0.0"
        ],
        [
         "14",
         "12 de Octubre",
         "239592",
         "1.0",
         "1.0",
         "0.0"
        ],
        [
         "15",
         "12 de Octubre",
         "471130",
         "15.0",
         "5.0",
         "0.0"
        ],
        [
         "16",
         "12 de Octubre",
         "651210",
         "1.0",
         "1.0",
         "0.0"
        ],
        [
         "17",
         "12 de Octubre",
         "851020",
         "99.0",
         "4.0",
         "0.0"
        ],
        [
         "18",
         "12 de Octubre",
         "11129",
         "2.0",
         "2.0",
         "0.0"
        ],
        [
         "19",
         "12 de Octubre",
         "351320",
         "4.0",
         "1.0",
         "0.0"
        ],
        [
         "20",
         "12 de Octubre",
         "466932",
         "3.0",
         "1.0",
         "0.0"
        ],
        [
         "21",
         "12 de Octubre",
         "16119",
         "3.0",
         "1.0",
         "0.0"
        ],
        [
         "22",
         "12 de Octubre",
         "239201",
         "5.0",
         "3.0",
         "0.0"
        ],
        [
         "23",
         "12 de Octubre",
         "421000",
         "3.0",
         "1.0",
         "0.0"
        ],
        [
         "24",
         "12 de Octubre",
         "475290",
         "1.0",
         "1.0",
         "0.0"
        ],
        [
         "25",
         "12 de Octubre",
         "477310",
         "9.0",
         "6.0",
         "0.0"
        ],
        [
         "26",
         "12 de Octubre",
         "942000",
         "1.0",
         "1.0",
         "0.0"
        ],
        [
         "27",
         "12 de Octubre",
         "16120",
         "3.0",
         "3.0",
         "0.0"
        ],
        [
         "28",
         "12 de Octubre",
         "491200",
         "1.0",
         "1.0",
         "0.0"
        ],
        [
         "29",
         "12 de Octubre",
         "492110",
         "1.0",
         "1.0",
         "0.0"
        ],
        [
         "30",
         "12 de Octubre",
         "812010",
         "7.0",
         "1.0",
         "0.0"
        ],
        [
         "31",
         "12 de Octubre",
         "920009",
         "16.0",
         "2.0",
         "0.0"
        ],
        [
         "32",
         "12 de Octubre",
         "475490",
         "4.0",
         "1.0",
         "0.0"
        ],
        [
         "33",
         "12 de Octubre",
         "475110",
         "1.0",
         "1.0",
         "0.0"
        ],
        [
         "34",
         "12 de Octubre",
         "453210",
         "2.0",
         "1.0",
         "0.0"
        ],
        [
         "35",
         "12 de Octubre",
         "475230",
         "17.0",
         "5.0",
         "0.0"
        ],
        [
         "36",
         "12 de Octubre",
         "101011",
         "1.0",
         "1.0",
         "0.0"
        ],
        [
         "37",
         "12 de Octubre",
         "410011",
         "1.0",
         "1.0",
         "0.0"
        ],
        [
         "38",
         "12 de Octubre",
         "16112",
         "7.0",
         "3.0",
         "0.0"
        ],
        [
         "39",
         "12 de Octubre",
         "466110",
         "5.0",
         "2.0",
         "0.0"
        ],
        [
         "40",
         "12 de Octubre",
         "492290",
         "4.0",
         "2.0",
         "0.0"
        ],
        [
         "41",
         "12 de Octubre",
         "551022",
         "7.0",
         "2.0",
         "0.0"
        ],
        [
         "42",
         "12 de Octubre",
         "692000",
         "2.0",
         "2.0",
         "0.0"
        ],
        [
         "43",
         "12 de Octubre",
         "920001",
         "1.0",
         "1.0",
         "0.0"
        ],
        [
         "44",
         "12 de Octubre",
         "11329",
         "2.0",
         "1.0",
         "0.0"
        ],
        [
         "45",
         "12 de Octubre",
         "16190",
         "2.0",
         "2.0",
         "0.0"
        ],
        [
         "46",
         "12 de Octubre",
         "477190",
         "1.0",
         "1.0",
         "0.0"
        ],
        [
         "47",
         "12 de Octubre",
         "869090",
         "2.0",
         "2.0",
         "0.0"
        ],
        [
         "48",
         "12 de Octubre",
         "472120",
         "2.0",
         "1.0",
         "0.0"
        ],
        [
         "49",
         "12 de Octubre",
         "477230",
         "1.0",
         "1.0",
         "0.0"
        ]
       ],
       "shape": {
        "columns": 5,
        "rows": 89063
       }
      },
      "text/html": [
       "<div>\n",
       "<style scoped>\n",
       "    .dataframe tbody tr th:only-of-type {\n",
       "        vertical-align: middle;\n",
       "    }\n",
       "\n",
       "    .dataframe tbody tr th {\n",
       "        vertical-align: top;\n",
       "    }\n",
       "\n",
       "    .dataframe thead th {\n",
       "        text-align: right;\n",
       "    }\n",
       "</style>\n",
       "<table border=\"1\" class=\"dataframe\">\n",
       "  <thead>\n",
       "    <tr style=\"text-align: right;\">\n",
       "      <th></th>\n",
       "      <th>departamento</th>\n",
       "      <th>clae6</th>\n",
       "      <th>empleados</th>\n",
       "      <th>establecimientos</th>\n",
       "      <th>empresas_exportadoras</th>\n",
       "    </tr>\n",
       "  </thead>\n",
       "  <tbody>\n",
       "    <tr>\n",
       "      <th>0</th>\n",
       "      <td>12 de Octubre</td>\n",
       "      <td>11501</td>\n",
       "      <td>21.0</td>\n",
       "      <td>7.0</td>\n",
       "      <td>6.0</td>\n",
       "    </tr>\n",
       "    <tr>\n",
       "      <th>1</th>\n",
       "      <td>12 de Octubre</td>\n",
       "      <td>461011</td>\n",
       "      <td>31.0</td>\n",
       "      <td>3.0</td>\n",
       "      <td>6.0</td>\n",
       "    </tr>\n",
       "    <tr>\n",
       "      <th>2</th>\n",
       "      <td>12 de Octubre</td>\n",
       "      <td>131110</td>\n",
       "      <td>215.0</td>\n",
       "      <td>7.0</td>\n",
       "      <td>4.0</td>\n",
       "    </tr>\n",
       "    <tr>\n",
       "      <th>3</th>\n",
       "      <td>12 de Octubre</td>\n",
       "      <td>11119</td>\n",
       "      <td>147.0</td>\n",
       "      <td>41.0</td>\n",
       "      <td>4.0</td>\n",
       "    </tr>\n",
       "    <tr>\n",
       "      <th>4</th>\n",
       "      <td>12 de Octubre</td>\n",
       "      <td>530010</td>\n",
       "      <td>1.0</td>\n",
       "      <td>1.0</td>\n",
       "      <td>1.0</td>\n",
       "    </tr>\n",
       "    <tr>\n",
       "      <th>...</th>\n",
       "      <td>...</td>\n",
       "      <td>...</td>\n",
       "      <td>...</td>\n",
       "      <td>...</td>\n",
       "      <td>...</td>\n",
       "    </tr>\n",
       "    <tr>\n",
       "      <th>89058</th>\n",
       "      <td>Ñorquín</td>\n",
       "      <td>472190</td>\n",
       "      <td>1.0</td>\n",
       "      <td>1.0</td>\n",
       "      <td>0.0</td>\n",
       "    </tr>\n",
       "    <tr>\n",
       "      <th>89059</th>\n",
       "      <td>Ñorquín</td>\n",
       "      <td>960990</td>\n",
       "      <td>1.0</td>\n",
       "      <td>1.0</td>\n",
       "      <td>0.0</td>\n",
       "    </tr>\n",
       "    <tr>\n",
       "      <th>89060</th>\n",
       "      <td>Ñorquín</td>\n",
       "      <td>471130</td>\n",
       "      <td>2.0</td>\n",
       "      <td>2.0</td>\n",
       "      <td>0.0</td>\n",
       "    </tr>\n",
       "    <tr>\n",
       "      <th>89061</th>\n",
       "      <td>Ñorquín</td>\n",
       "      <td>551022</td>\n",
       "      <td>7.0</td>\n",
       "      <td>3.0</td>\n",
       "      <td>0.0</td>\n",
       "    </tr>\n",
       "    <tr>\n",
       "      <th>89062</th>\n",
       "      <td>Ñorquín</td>\n",
       "      <td>931020</td>\n",
       "      <td>108.0</td>\n",
       "      <td>2.0</td>\n",
       "      <td>0.0</td>\n",
       "    </tr>\n",
       "  </tbody>\n",
       "</table>\n",
       "<p>89063 rows × 5 columns</p>\n",
       "</div>"
      ],
      "text/plain": [
       "        departamento   clae6  empleados  establecimientos  \\\n",
       "0      12 de Octubre   11501       21.0               7.0   \n",
       "1      12 de Octubre  461011       31.0               3.0   \n",
       "2      12 de Octubre  131110      215.0               7.0   \n",
       "3      12 de Octubre   11119      147.0              41.0   \n",
       "4      12 de Octubre  530010        1.0               1.0   \n",
       "...              ...     ...        ...               ...   \n",
       "89058        Ñorquín  472190        1.0               1.0   \n",
       "89059        Ñorquín  960990        1.0               1.0   \n",
       "89060        Ñorquín  471130        2.0               2.0   \n",
       "89061        Ñorquín  551022        7.0               3.0   \n",
       "89062        Ñorquín  931020      108.0               2.0   \n",
       "\n",
       "       empresas_exportadoras  \n",
       "0                        6.0  \n",
       "1                        6.0  \n",
       "2                        4.0  \n",
       "3                        4.0  \n",
       "4                        1.0  \n",
       "...                      ...  \n",
       "89058                    0.0  \n",
       "89059                    0.0  \n",
       "89060                    0.0  \n",
       "89061                    0.0  \n",
       "89062                    0.0  \n",
       "\n",
       "[89063 rows x 5 columns]"
      ]
     },
     "execution_count": 8,
     "metadata": {},
     "output_type": "execute_result"
    }
   ],
   "source": [
    "# Me quedo con los datos que quiero:\n",
    "\n",
    "consultaSQL = \"\"\"\n",
    "SELECT \n",
    "    departamento,\n",
    "    clae6,\n",
    "    SUM(Empleo) as empleados,\n",
    "    SUM(Establecimientos) as establecimientos,\n",
    "    SUM(empresas_exportadoras) as empresas_exportadoras\n",
    "FROM datos_departamento\n",
    "WHERE anio = 2022\n",
    "GROUP BY clae6, departamento\n",
    "ORDER BY departamento, empresas_exportadoras DESC\n",
    "              \"\"\"\n",
    "\n",
    "datos_departamento_limpios = dd.sql(consultaSQL).df()\n",
    "datos_departamento_limpios"
   ]
  },
  {
   "cell_type": "code",
   "execution_count": 9,
   "id": "38d3ddfa",
   "metadata": {},
   "outputs": [],
   "source": [
    "\n",
    "ruta_subcarpeta = os.path.join('TablasModificadas', 'Datos_departamento')\n",
    "\n",
    "os.makedirs(ruta_subcarpeta, exist_ok=True)\n",
    "\n",
    "\n",
    "ruta_archivo = os.path.join(ruta_subcarpeta, 'Datos_departamento_por_actividad_y_sexo_limpios.csv')\n",
    "\n",
    "datos_departamento_limpios.to_csv(ruta_archivo, index=False)"
   ]
  },
  {
   "cell_type": "markdown",
   "id": "86d2da45",
   "metadata": {},
   "source": [
    "# Limpieza establecimientos educativos\n",
    "\n",
    "\n",
    "\n"
   ]
  },
  {
   "cell_type": "code",
   "execution_count": 10,
   "id": "a07c2169",
   "metadata": {},
   "outputs": [],
   "source": [
    "# Dado que solo me importan los establecimientos educativos con relevancia para la produccion industrial entonces puedo sacar\n",
    "# Todos aquellos que no entren en la categoria comun, o adultos de formacion profesional"
   ]
  },
  {
   "cell_type": "code",
   "execution_count": 11,
   "id": "1623f7f0",
   "metadata": {},
   "outputs": [
    {
     "name": "stdout",
     "output_type": "stream",
     "text": [
      "Index(['Jurisdicción', 'Cueanexo', 'Nombre', 'Sector', 'Ámbito', 'Domicilio',\n",
      "       'C_P', 'Código_de_área', 'Teléfono', 'Código_de_localidad', 'Localidad',\n",
      "       'Departamento', 'Mail', 'Común', 'Especial', 'Adultos', 'Artística',\n",
      "       'Hospitalaria', 'Intercultural', 'Encierro', 'Jardín_maternal',\n",
      "       'Jardín_de_infantes', 'Primario', 'Secundario', 'Secundario_INET',\n",
      "       'SNU', 'SNU_INET', 'Secundario.1', 'SNU.1', 'Talleres',\n",
      "       'Nivel_inicial_Educación_temprana',\n",
      "       'Nivel_inicial_Jardín_de_infantes.1', 'Primario.1', 'Secundario.2',\n",
      "       'Integración_a_la_modalidad_común/_adultos', 'Primario.2',\n",
      "       'Secundario.3', 'Alfabetización', 'Formación_Profesional',\n",
      "       'Formación_Profesional_INET', 'Inicial', 'Primario.3', 'Secundario.4',\n",
      "       'Unnamed: 43'],\n",
      "      dtype='object')\n"
     ]
    }
   ],
   "source": [
    "padron_establecimientos_educativos  = pd.read_excel(carpeta + \"/2022_padron_oficial_establecimientos_educativos.xlsx\", skiprows = 6) # salto los irrelevantes\n",
    "# saquemosle los espacios para poder llamarlos con sql despues:\n",
    "padron_establecimientos_educativos.columns=['Jurisdicción', 'Cueanexo', 'Nombre', 'Sector', 'Ámbito', 'Domicilio',\n",
    "       'C_P', 'Código_de_área', 'Teléfono', 'Código_de_localidad',\n",
    "       'Localidad', 'Departamento', 'Mail', 'Común', 'Especial', 'Adultos',\n",
    "       'Artística', 'Hospitalaria', 'Intercultural', 'Encierro',\n",
    "       'Jardín_maternal', 'Jardín_de_infantes',\n",
    "       'Primario', 'Secundario', 'Secundario_INET', 'SNU', 'SNU_INET',\n",
    "       'Secundario.1', 'SNU.1', 'Talleres',\n",
    "       'Nivel_inicial_Educación_temprana',\n",
    "       'Nivel_inicial_Jardín_de_infantes.1', 'Primario.1', 'Secundario.2',\n",
    "       'Integración_a_la_modalidad_común/_adultos', 'Primario.2',\n",
    "       'Secundario.3', 'Alfabetización', 'Formación_Profesional',\n",
    "       'Formación_Profesional_INET', 'Inicial', 'Primario.3', 'Secundario.4',\n",
    "       'Unnamed: 43']\n",
    "print(padron_establecimientos_educativos.columns)"
   ]
  },
  {
   "cell_type": "code",
   "execution_count": 12,
   "id": "b0e126b7",
   "metadata": {},
   "outputs": [
    {
     "data": {
      "application/vnd.microsoft.datawrangler.viewer.v0+json": {
       "columns": [
        {
         "name": "index",
         "rawType": "int64",
         "type": "integer"
        },
        {
         "name": "Departamento",
         "rawType": "object",
         "type": "string"
        },
        {
         "name": "Cueanexo",
         "rawType": "int64",
         "type": "integer"
        },
        {
         "name": "Sector",
         "rawType": "object",
         "type": "string"
        },
        {
         "name": "Nombre",
         "rawType": "object",
         "type": "string"
        },
        {
         "name": "Ámbito",
         "rawType": "object",
         "type": "string"
        },
        {
         "name": "Código_de_área",
         "rawType": "object",
         "type": "string"
        },
        {
         "name": "Localidad",
         "rawType": "object",
         "type": "string"
        },
        {
         "name": "Código_de_localidad",
         "rawType": "int64",
         "type": "integer"
        }
       ],
       "ref": "a1cf0f43-2747-4435-b0e8-a73e9554dfa4",
       "rows": [
        [
         "0",
         "Comuna 4",
         "20000100",
         "Privado",
         "INSTITUTO PRIVADO ESCUELA EVANGELICA WILLIAM C. MORRIS",
         "Urbano",
         "11",
         "CIUDAD DE BUENOS AIRES",
         "2104001"
        ],
        [
         "1",
         "Comuna 4",
         "20000200",
         "Estatal",
         "CARLOS R. VIGNALE",
         "Urbano",
         "11",
         "CIUDAD DE BUENOS AIRES",
         "2104001"
        ],
        [
         "2",
         "Comuna 13",
         "20000300",
         "Privado",
         "INSTITUTO SAN CAYETANO",
         "Urbano",
         "11",
         "CIUDAD DE BUENOS AIRES",
         "2113001"
        ],
        [
         "3",
         "Comuna 13",
         "20000500",
         "Privado",
         "INSTITUTO NUESTRA SEÑORA DEL ROSARIO",
         "Urbano",
         "11",
         "CIUDAD DE BUENOS AIRES",
         "2113001"
        ],
        [
         "4",
         "Comuna 9",
         "20000700",
         "Privado",
         "INSTITUTO NTRA SEÑORA DE LUJAN DE LOS PATRIOTAS",
         "Urbano",
         "11",
         "CIUDAD DE BUENOS AIRES",
         "2109001"
        ],
        [
         "5",
         "Comuna 9",
         "20000800",
         "Estatal",
         "DR MARTINIANO LEGUIZAMON",
         "Urbano",
         "11",
         "CIUDAD DE BUENOS AIRES",
         "2109001"
        ],
        [
         "6",
         "Comuna 4",
         "20000900",
         "Estatal",
         "BENITO QUINQUELA MARTIN",
         "Urbano",
         "11",
         "CIUDAD DE BUENOS AIRES",
         "2104001"
        ],
        [
         "7",
         "Comuna 4",
         "20001000",
         "Estatal",
         "JOSE JACINTO BERRUTTI",
         "Urbano",
         "11",
         "CIUDAD DE BUENOS AIRES",
         "2104001"
        ],
        [
         "8",
         "Comuna 4",
         "20001100",
         "Estatal",
         "REPUBLICA ITALIANA",
         "Urbano",
         "11",
         "CIUDAD DE BUENOS AIRES",
         "2104001"
        ],
        [
         "9",
         "Comuna 4",
         "20001200",
         "Estatal",
         "JUAN MARIA GUTIERREZ",
         "Urbano",
         "11",
         "CIUDAD DE BUENOS AIRES",
         "2104001"
        ],
        [
         "10",
         "Comuna 1",
         "20001500",
         "Estatal",
         "EUSTAQUIO CARDENAS",
         "Urbano",
         "11",
         "CIUDAD DE BUENOS AIRES",
         "2101001"
        ],
        [
         "11",
         "Comuna 13",
         "20001700",
         "Privado",
         "ESCUELA DE LA ALDEA",
         "Urbano",
         "11",
         "CIUDAD DE BUENOS AIRES",
         "2113001"
        ],
        [
         "12",
         "Comuna 11",
         "20001800",
         "Estatal",
         "FRAY JUSTO SANTA MARIA DE ORO",
         "Urbano",
         "11",
         "CIUDAD DE BUENOS AIRES",
         "2111001"
        ],
        [
         "13",
         "Comuna 9",
         "20002200",
         "Estatal",
         "REPUBLICA DE FILIPINAS",
         "Urbano",
         "11",
         "CIUDAD DE BUENOS AIRES",
         "2109001"
        ],
        [
         "14",
         "Comuna 9",
         "20002300",
         "Estatal",
         "JUAN RAMON JIMENEZ",
         "Urbano",
         "11",
         "CIUDAD DE BUENOS AIRES",
         "2109001"
        ],
        [
         "15",
         "Comuna 10",
         "20002400",
         "Estatal",
         "RECUERDOS DE PROVINCIA",
         "Urbano",
         "11",
         "CIUDAD DE BUENOS AIRES",
         "2110001"
        ],
        [
         "16",
         "Comuna 10",
         "20002500",
         "Estatal",
         "CARLOS GUIDO Y SPANO",
         "Urbano",
         "11",
         "CIUDAD DE BUENOS AIRES",
         "2110001"
        ],
        [
         "17",
         "Comuna 13",
         "20002600",
         "Privado",
         "CENTRO DE ESTUDIOS INTERDISCPLINARIOS PARA EL APRENDIZAJE Y LA COMUNICACION",
         "Urbano",
         "11",
         "CIUDAD DE BUENOS AIRES",
         "2113001"
        ],
        [
         "18",
         "Comuna 13",
         "20002700",
         "Privado",
         "JARDIN INFANTES A.B.C.",
         "Urbano",
         "11",
         "CIUDAD DE BUENOS AIRES",
         "2113001"
        ],
        [
         "19",
         "Comuna 13",
         "20002800",
         "Privado",
         "INSTITUTO BET-EL",
         "Urbano",
         "11",
         "CIUDAD DE BUENOS AIRES",
         "2113001"
        ],
        [
         "20",
         "Comuna 4",
         "20002900",
         "Privado",
         "INSTITUTO SAN PEDRO",
         "Urbano",
         "11",
         "CIUDAD DE BUENOS AIRES",
         "2104001"
        ],
        [
         "21",
         "Comuna 2",
         "20003100",
         "Privado",
         "COLEGIO LAS CUMBRES",
         "Urbano",
         "11",
         "CIUDAD DE BUENOS AIRES",
         "2102001"
        ],
        [
         "22",
         "Comuna 1",
         "20003300",
         "Privado",
         "INSTITUTO CONSTANZA RAMOS MEJIA DE BUNGE",
         "Urbano",
         "11",
         "CIUDAD DE BUENOS AIRES",
         "2101001"
        ],
        [
         "23",
         "Comuna 2",
         "20003400",
         "Privado",
         "INST. COLEGIO SAN TARSICIO",
         "Urbano",
         "11",
         "CIUDAD DE BUENOS AIRES",
         "2102001"
        ],
        [
         "24",
         "Comuna 1",
         "20003500",
         "Privado",
         "JARDIN DE INFANTES EL CENTAVO",
         "Urbano",
         "11",
         "CIUDAD DE BUENOS AIRES",
         "2101001"
        ],
        [
         "25",
         "Comuna 1",
         "20003600",
         "Estatal",
         "VALENTIN GOMEZ",
         "Urbano",
         "11",
         "CIUDAD DE BUENOS AIRES",
         "2101001"
        ],
        [
         "26",
         "Comuna 4",
         "20003700",
         "Estatal",
         "JIN B HOMERO MANZI DE 19 (N°11)",
         "Urbano",
         "11",
         "CIUDAD DE BUENOS AIRES",
         "2104001"
        ],
        [
         "27",
         "Comuna 4",
         "20003701",
         "Estatal",
         "JIN B HOMERO MANZI DE 19 (N°1)",
         "Urbano",
         "11",
         "CIUDAD DE BUENOS AIRES",
         "2104001"
        ],
        [
         "28",
         "Comuna 4",
         "20003703",
         "Estatal",
         "JIN B HOMERO MANZI DE 19 (N°10)",
         "Urbano",
         "11",
         "CIUDAD DE BUENOS AIRES",
         "2104001"
        ],
        [
         "29",
         "Comuna 4",
         "20003800",
         "Estatal",
         "MARIA SILVENTI DE AMATO",
         "Urbano",
         "11",
         "CIUDAD DE BUENOS AIRES",
         "2104001"
        ],
        [
         "30",
         "Comuna 4",
         "20003900",
         "Estatal",
         "PROFESOR CARLOS JUSTO FLORIT",
         "Urbano",
         "11",
         "CIUDAD DE BUENOS AIRES",
         "2104001"
        ],
        [
         "31",
         "Comuna 7",
         "20004000",
         "Estatal",
         "RICARDO GUIRALDES",
         "Urbano",
         "11",
         "CIUDAD DE BUENOS AIRES",
         "2107001"
        ],
        [
         "32",
         "Comuna 4",
         "20004100",
         "Estatal",
         "PROVINCIA DE CORRIENTES",
         "Urbano",
         "11",
         "CIUDAD DE BUENOS AIRES",
         "2104001"
        ],
        [
         "33",
         "Comuna 4",
         "20004200",
         "Estatal",
         "AERONAUTICA ARGENTINA",
         "Urbano",
         "11",
         "CIUDAD DE BUENOS AIRES",
         "2104001"
        ],
        [
         "34",
         "Comuna 4",
         "20004300",
         "Estatal",
         "JUAN ANDRES DE LA PEÑA",
         "Urbano",
         "11",
         "CIUDAD DE BUENOS AIRES",
         "2104001"
        ],
        [
         "35",
         "Comuna 7",
         "20004400",
         "Estatal",
         "JII Nº 01 DE 19",
         "Urbano",
         "11",
         "CIUDAD DE BUENOS AIRES",
         "2107001"
        ],
        [
         "36",
         "Comuna 15",
         "20004600",
         "Estatal",
         "REPUBLICA DE HONDURAS",
         "Urbano",
         "11",
         "CIUDAD DE BUENOS AIRES",
         "2115001"
        ],
        [
         "37",
         "Comuna 14",
         "20004700",
         "Privado",
         "INSTITUTO BAYARD",
         "Urbano",
         "11",
         "CIUDAD DE BUENOS AIRES",
         "2114001"
        ],
        [
         "38",
         "Comuna 15",
         "20004800",
         "Estatal",
         "CABILDO DE BUENOS AIRES",
         "Urbano",
         "11",
         "CIUDAD DE BUENOS AIRES",
         "2115001"
        ],
        [
         "39",
         "Comuna 4",
         "20004900",
         "Privado",
         "INSTITUTO PARROQUIAL SANTA LUCIA",
         "Urbano",
         "11",
         "CIUDAD DE BUENOS AIRES",
         "2104001"
        ],
        [
         "40",
         "Comuna 4",
         "20005000",
         "Estatal",
         "DR. PEDRO MELITON LEDESMA",
         "Urbano",
         "11",
         "CIUDAD DE BUENOS AIRES",
         "2104001"
        ],
        [
         "41",
         "Comuna 15",
         "20005100",
         "Estatal",
         "INGENIERO ALVAREZ CONDARCO",
         "Urbano",
         "11",
         "CIUDAD DE BUENOS AIRES",
         "2115001"
        ],
        [
         "42",
         "Comuna 4",
         "20005300",
         "Estatal",
         "PRESIDENTE DERQUI",
         "Urbano",
         "11",
         "CIUDAD DE BUENOS AIRES",
         "2104001"
        ],
        [
         "43",
         "Comuna 11",
         "20005400",
         "Privado",
         "INSTITUTO SAN JUAN MARIA VIANNEY",
         "Urbano",
         "11",
         "CIUDAD DE BUENOS AIRES",
         "2111001"
        ],
        [
         "44",
         "Comuna 1",
         "20005500",
         "Privado",
         "INSTITUTO INTEGRAL DEL SUD",
         "Urbano",
         "11",
         "CIUDAD DE BUENOS AIRES",
         "2101001"
        ],
        [
         "45",
         "Comuna 3",
         "20005600",
         "Estatal",
         "FRANCISCO DE GURRUCHAGA",
         "Urbano",
         "11",
         "CIUDAD DE BUENOS AIRES",
         "2103001"
        ],
        [
         "46",
         "Comuna 3",
         "20005800",
         "Privado",
         "COLEGIO SECUNDARIO STO TOMAS DE AQUINO",
         "Urbano",
         "11",
         "CIUDAD DE BUENOS AIRES",
         "2103001"
        ],
        [
         "47",
         "Comuna 13",
         "20005801",
         "Privado",
         "COLEGIO SEC. STO TOMAS DE AQUINO",
         "Urbano",
         "11",
         "CIUDAD DE BUENOS AIRES",
         "2113001"
        ],
        [
         "48",
         "Comuna 1",
         "20006300",
         "Estatal",
         "GENERAL GUEMES",
         "Urbano",
         "11",
         "CIUDAD DE BUENOS AIRES",
         "2101001"
        ],
        [
         "49",
         "Comuna 1",
         "20006500",
         "Privado",
         "INST. HOGAR DEL PINO",
         "Urbano",
         "11",
         "CIUDAD DE BUENOS AIRES",
         "2101001"
        ]
       ],
       "shape": {
        "columns": 8,
        "rows": 53280
       }
      },
      "text/html": [
       "<div>\n",
       "<style scoped>\n",
       "    .dataframe tbody tr th:only-of-type {\n",
       "        vertical-align: middle;\n",
       "    }\n",
       "\n",
       "    .dataframe tbody tr th {\n",
       "        vertical-align: top;\n",
       "    }\n",
       "\n",
       "    .dataframe thead th {\n",
       "        text-align: right;\n",
       "    }\n",
       "</style>\n",
       "<table border=\"1\" class=\"dataframe\">\n",
       "  <thead>\n",
       "    <tr style=\"text-align: right;\">\n",
       "      <th></th>\n",
       "      <th>Departamento</th>\n",
       "      <th>Cueanexo</th>\n",
       "      <th>Sector</th>\n",
       "      <th>Nombre</th>\n",
       "      <th>Ámbito</th>\n",
       "      <th>Código_de_área</th>\n",
       "      <th>Localidad</th>\n",
       "      <th>Código_de_localidad</th>\n",
       "    </tr>\n",
       "  </thead>\n",
       "  <tbody>\n",
       "    <tr>\n",
       "      <th>0</th>\n",
       "      <td>Comuna 4</td>\n",
       "      <td>20000100</td>\n",
       "      <td>Privado</td>\n",
       "      <td>INSTITUTO PRIVADO ESCUELA EVANGELICA WILLIAM C...</td>\n",
       "      <td>Urbano</td>\n",
       "      <td>11</td>\n",
       "      <td>CIUDAD DE BUENOS AIRES</td>\n",
       "      <td>2104001</td>\n",
       "    </tr>\n",
       "    <tr>\n",
       "      <th>1</th>\n",
       "      <td>Comuna 4</td>\n",
       "      <td>20000200</td>\n",
       "      <td>Estatal</td>\n",
       "      <td>CARLOS R. VIGNALE</td>\n",
       "      <td>Urbano</td>\n",
       "      <td>11</td>\n",
       "      <td>CIUDAD DE BUENOS AIRES</td>\n",
       "      <td>2104001</td>\n",
       "    </tr>\n",
       "    <tr>\n",
       "      <th>2</th>\n",
       "      <td>Comuna 13</td>\n",
       "      <td>20000300</td>\n",
       "      <td>Privado</td>\n",
       "      <td>INSTITUTO SAN CAYETANO</td>\n",
       "      <td>Urbano</td>\n",
       "      <td>11</td>\n",
       "      <td>CIUDAD DE BUENOS AIRES</td>\n",
       "      <td>2113001</td>\n",
       "    </tr>\n",
       "    <tr>\n",
       "      <th>3</th>\n",
       "      <td>Comuna 13</td>\n",
       "      <td>20000500</td>\n",
       "      <td>Privado</td>\n",
       "      <td>INSTITUTO NUESTRA SEÑORA DEL ROSARIO</td>\n",
       "      <td>Urbano</td>\n",
       "      <td>11</td>\n",
       "      <td>CIUDAD DE BUENOS AIRES</td>\n",
       "      <td>2113001</td>\n",
       "    </tr>\n",
       "    <tr>\n",
       "      <th>4</th>\n",
       "      <td>Comuna 9</td>\n",
       "      <td>20000700</td>\n",
       "      <td>Privado</td>\n",
       "      <td>INSTITUTO NTRA SEÑORA DE LUJAN DE LOS PATRIOTAS</td>\n",
       "      <td>Urbano</td>\n",
       "      <td>11</td>\n",
       "      <td>CIUDAD DE BUENOS AIRES</td>\n",
       "      <td>2109001</td>\n",
       "    </tr>\n",
       "    <tr>\n",
       "      <th>...</th>\n",
       "      <td>...</td>\n",
       "      <td>...</td>\n",
       "      <td>...</td>\n",
       "      <td>...</td>\n",
       "      <td>...</td>\n",
       "      <td>...</td>\n",
       "      <td>...</td>\n",
       "      <td>...</td>\n",
       "    </tr>\n",
       "    <tr>\n",
       "      <th>53275</th>\n",
       "      <td>USHUAIA</td>\n",
       "      <td>940021000</td>\n",
       "      <td>Estatal</td>\n",
       "      <td>COLEGIO PROVINCIAL DE EDUCACIÓN SECUNDARIA EVA...</td>\n",
       "      <td>Urbano</td>\n",
       "      <td>2901</td>\n",
       "      <td>USHUAIA</td>\n",
       "      <td>94014028</td>\n",
       "    </tr>\n",
       "    <tr>\n",
       "      <th>53276</th>\n",
       "      <td>RIO GRANDE</td>\n",
       "      <td>940021100</td>\n",
       "      <td>Estatal</td>\n",
       "      <td>ESCUELA MUNICIPAL EXPERIMENTAL LOS ÑIRES</td>\n",
       "      <td>Urbano</td>\n",
       "      <td>2901</td>\n",
       "      <td>TOLHUIN</td>\n",
       "      <td>94007153</td>\n",
       "    </tr>\n",
       "    <tr>\n",
       "      <th>53277</th>\n",
       "      <td>RIO GRANDE</td>\n",
       "      <td>940021500</td>\n",
       "      <td>Privado</td>\n",
       "      <td>Jardín de Infantes Semillitas</td>\n",
       "      <td>Urbano</td>\n",
       "      <td>2964</td>\n",
       "      <td>RIO GRANDE</td>\n",
       "      <td>94007152</td>\n",
       "    </tr>\n",
       "    <tr>\n",
       "      <th>53278</th>\n",
       "      <td>USHUAIA</td>\n",
       "      <td>940021600</td>\n",
       "      <td>Estatal</td>\n",
       "      <td>JARDIN DE INFANTES N°28</td>\n",
       "      <td>Urbano</td>\n",
       "      <td>2901</td>\n",
       "      <td>USHUAIA</td>\n",
       "      <td>94014028</td>\n",
       "    </tr>\n",
       "    <tr>\n",
       "      <th>53279</th>\n",
       "      <td>RIO GRANDE</td>\n",
       "      <td>940022000</td>\n",
       "      <td>Estatal</td>\n",
       "      <td>Colegio de Educación Secundaria Técnica Malvin...</td>\n",
       "      <td>Urbano</td>\n",
       "      <td>2964</td>\n",
       "      <td>RIO GRANDE</td>\n",
       "      <td>94007152</td>\n",
       "    </tr>\n",
       "  </tbody>\n",
       "</table>\n",
       "<p>53280 rows × 8 columns</p>\n",
       "</div>"
      ],
      "text/plain": [
       "      Departamento   Cueanexo   Sector  \\\n",
       "0         Comuna 4   20000100  Privado   \n",
       "1         Comuna 4   20000200  Estatal   \n",
       "2        Comuna 13   20000300  Privado   \n",
       "3        Comuna 13   20000500  Privado   \n",
       "4         Comuna 9   20000700  Privado   \n",
       "...            ...        ...      ...   \n",
       "53275      USHUAIA  940021000  Estatal   \n",
       "53276   RIO GRANDE  940021100  Estatal   \n",
       "53277   RIO GRANDE  940021500  Privado   \n",
       "53278      USHUAIA  940021600  Estatal   \n",
       "53279   RIO GRANDE  940022000  Estatal   \n",
       "\n",
       "                                                  Nombre  Ámbito  \\\n",
       "0      INSTITUTO PRIVADO ESCUELA EVANGELICA WILLIAM C...  Urbano   \n",
       "1                                      CARLOS R. VIGNALE  Urbano   \n",
       "2                                 INSTITUTO SAN CAYETANO  Urbano   \n",
       "3                   INSTITUTO NUESTRA SEÑORA DEL ROSARIO  Urbano   \n",
       "4        INSTITUTO NTRA SEÑORA DE LUJAN DE LOS PATRIOTAS  Urbano   \n",
       "...                                                  ...     ...   \n",
       "53275  COLEGIO PROVINCIAL DE EDUCACIÓN SECUNDARIA EVA...  Urbano   \n",
       "53276           ESCUELA MUNICIPAL EXPERIMENTAL LOS ÑIRES  Urbano   \n",
       "53277                      Jardín de Infantes Semillitas  Urbano   \n",
       "53278                            JARDIN DE INFANTES N°28  Urbano   \n",
       "53279  Colegio de Educación Secundaria Técnica Malvin...  Urbano   \n",
       "\n",
       "      Código_de_área               Localidad  Código_de_localidad  \n",
       "0                 11  CIUDAD DE BUENOS AIRES              2104001  \n",
       "1                 11  CIUDAD DE BUENOS AIRES              2104001  \n",
       "2                 11  CIUDAD DE BUENOS AIRES              2113001  \n",
       "3                 11  CIUDAD DE BUENOS AIRES              2113001  \n",
       "4                 11  CIUDAD DE BUENOS AIRES              2109001  \n",
       "...              ...                     ...                  ...  \n",
       "53275           2901                 USHUAIA             94014028  \n",
       "53276           2901                 TOLHUIN             94007153  \n",
       "53277           2964              RIO GRANDE             94007152  \n",
       "53278           2901                 USHUAIA             94014028  \n",
       "53279           2964              RIO GRANDE             94007152  \n",
       "\n",
       "[53280 rows x 8 columns]"
      ]
     },
     "execution_count": 12,
     "metadata": {},
     "output_type": "execute_result"
    }
   ],
   "source": [
    "consultaSQL = \"\"\"\n",
    "SELECT  Departamento,  Cueanexo, Sector, Nombre,Ámbito, Código_de_área ,Localidad, Código_de_localidad\n",
    "\n",
    "FROM padron_establecimientos_educativos \n",
    "\n",
    "\n",
    "WHERE (Común == '1') OR (Formación_Profesional == '1') OR (Formación_Profesional_INET == '1')\n",
    "\n",
    "              \"\"\"\n",
    "\n",
    "padron_establecimientos_educativos_limpio  = dd.sql(consultaSQL).df()\n",
    "padron_establecimientos_educativos_limpio\n"
   ]
  },
  {
   "cell_type": "code",
   "execution_count": 13,
   "id": "8dab741d",
   "metadata": {},
   "outputs": [
    {
     "data": {
      "application/vnd.microsoft.datawrangler.viewer.v0+json": {
       "columns": [
        {
         "name": "index",
         "rawType": "int64",
         "type": "integer"
        },
        {
         "name": "Cueanexo",
         "rawType": "int64",
         "type": "integer"
        },
        {
         "name": "tipo_establecimiento",
         "rawType": "object",
         "type": "string"
        }
       ],
       "ref": "37365276-f322-4b11-ae9f-2b4a3fc138aa",
       "rows": [
        [
         "0",
         "20000100",
         "Jardín_maternal"
        ],
        [
         "1",
         "20000300",
         "Jardín_maternal"
        ],
        [
         "2",
         "20000500",
         "Jardín_maternal"
        ],
        [
         "3",
         "20000700",
         "Jardín_maternal"
        ],
        [
         "4",
         "20001700",
         "Jardín_maternal"
        ],
        [
         "5",
         "20002800",
         "Jardín_maternal"
        ],
        [
         "6",
         "20002900",
         "Jardín_maternal"
        ],
        [
         "7",
         "20003100",
         "Jardín_maternal"
        ],
        [
         "8",
         "20003400",
         "Jardín_maternal"
        ],
        [
         "9",
         "20003500",
         "Jardín_maternal"
        ],
        [
         "10",
         "20004700",
         "Jardín_maternal"
        ],
        [
         "11",
         "20005500",
         "Jardín_maternal"
        ],
        [
         "12",
         "20007200",
         "Jardín_maternal"
        ],
        [
         "13",
         "20008200",
         "Jardín_maternal"
        ],
        [
         "14",
         "20008300",
         "Jardín_maternal"
        ],
        [
         "15",
         "20008700",
         "Jardín_maternal"
        ],
        [
         "16",
         "20009100",
         "Jardín_maternal"
        ],
        [
         "17",
         "20009500",
         "Jardín_maternal"
        ],
        [
         "18",
         "20009700",
         "Jardín_maternal"
        ],
        [
         "19",
         "20009800",
         "Jardín_maternal"
        ],
        [
         "20",
         "20009900",
         "Jardín_maternal"
        ],
        [
         "21",
         "20010200",
         "Jardín_maternal"
        ],
        [
         "22",
         "20011500",
         "Jardín_maternal"
        ],
        [
         "23",
         "20011800",
         "Jardín_maternal"
        ],
        [
         "24",
         "20012300",
         "Jardín_maternal"
        ],
        [
         "25",
         "20012600",
         "Jardín_maternal"
        ],
        [
         "26",
         "20012700",
         "Jardín_maternal"
        ],
        [
         "27",
         "20014200",
         "Jardín_maternal"
        ],
        [
         "28",
         "20014400",
         "Jardín_maternal"
        ],
        [
         "29",
         "20015000",
         "Jardín_maternal"
        ],
        [
         "30",
         "20015500",
         "Jardín_maternal"
        ],
        [
         "31",
         "20015700",
         "Jardín_maternal"
        ],
        [
         "32",
         "20015800",
         "Jardín_maternal"
        ],
        [
         "33",
         "20017000",
         "Jardín_maternal"
        ],
        [
         "34",
         "20017800",
         "Jardín_maternal"
        ],
        [
         "35",
         "20019000",
         "Jardín_maternal"
        ],
        [
         "36",
         "20019800",
         "Jardín_maternal"
        ],
        [
         "37",
         "20020100",
         "Jardín_maternal"
        ],
        [
         "38",
         "20020900",
         "Jardín_maternal"
        ],
        [
         "39",
         "20021200",
         "Jardín_maternal"
        ],
        [
         "40",
         "20021700",
         "Jardín_maternal"
        ],
        [
         "41",
         "20021800",
         "Jardín_maternal"
        ],
        [
         "42",
         "20022000",
         "Jardín_maternal"
        ],
        [
         "43",
         "20022300",
         "Jardín_maternal"
        ],
        [
         "44",
         "20022400",
         "Jardín_maternal"
        ],
        [
         "45",
         "20024800",
         "Jardín_maternal"
        ],
        [
         "46",
         "20026400",
         "Jardín_maternal"
        ],
        [
         "47",
         "20027600",
         "Jardín_maternal"
        ],
        [
         "48",
         "20028700",
         "Jardín_maternal"
        ],
        [
         "49",
         "20030700",
         "Jardín_maternal"
        ]
       ],
       "shape": {
        "columns": 2,
        "rows": 70453
       }
      },
      "text/html": [
       "<div>\n",
       "<style scoped>\n",
       "    .dataframe tbody tr th:only-of-type {\n",
       "        vertical-align: middle;\n",
       "    }\n",
       "\n",
       "    .dataframe tbody tr th {\n",
       "        vertical-align: top;\n",
       "    }\n",
       "\n",
       "    .dataframe thead th {\n",
       "        text-align: right;\n",
       "    }\n",
       "</style>\n",
       "<table border=\"1\" class=\"dataframe\">\n",
       "  <thead>\n",
       "    <tr style=\"text-align: right;\">\n",
       "      <th></th>\n",
       "      <th>Cueanexo</th>\n",
       "      <th>tipo_establecimiento</th>\n",
       "    </tr>\n",
       "  </thead>\n",
       "  <tbody>\n",
       "    <tr>\n",
       "      <th>0</th>\n",
       "      <td>20000100</td>\n",
       "      <td>Jardín_maternal</td>\n",
       "    </tr>\n",
       "    <tr>\n",
       "      <th>1</th>\n",
       "      <td>20000300</td>\n",
       "      <td>Jardín_maternal</td>\n",
       "    </tr>\n",
       "    <tr>\n",
       "      <th>2</th>\n",
       "      <td>20000500</td>\n",
       "      <td>Jardín_maternal</td>\n",
       "    </tr>\n",
       "    <tr>\n",
       "      <th>3</th>\n",
       "      <td>20000700</td>\n",
       "      <td>Jardín_maternal</td>\n",
       "    </tr>\n",
       "    <tr>\n",
       "      <th>4</th>\n",
       "      <td>20001700</td>\n",
       "      <td>Jardín_maternal</td>\n",
       "    </tr>\n",
       "    <tr>\n",
       "      <th>...</th>\n",
       "      <td>...</td>\n",
       "      <td>...</td>\n",
       "    </tr>\n",
       "    <tr>\n",
       "      <th>70448</th>\n",
       "      <td>900214608</td>\n",
       "      <td>Formación_Profesional_INET</td>\n",
       "    </tr>\n",
       "    <tr>\n",
       "      <th>70449</th>\n",
       "      <td>900231300</td>\n",
       "      <td>Formación_Profesional_INET</td>\n",
       "    </tr>\n",
       "    <tr>\n",
       "      <th>70450</th>\n",
       "      <td>940014900</td>\n",
       "      <td>Formación_Profesional_INET</td>\n",
       "    </tr>\n",
       "    <tr>\n",
       "      <th>70451</th>\n",
       "      <td>940015300</td>\n",
       "      <td>Formación_Profesional_INET</td>\n",
       "    </tr>\n",
       "    <tr>\n",
       "      <th>70452</th>\n",
       "      <td>940016600</td>\n",
       "      <td>Formación_Profesional_INET</td>\n",
       "    </tr>\n",
       "  </tbody>\n",
       "</table>\n",
       "<p>70453 rows × 2 columns</p>\n",
       "</div>"
      ],
      "text/plain": [
       "        Cueanexo        tipo_establecimiento\n",
       "0       20000100             Jardín_maternal\n",
       "1       20000300             Jardín_maternal\n",
       "2       20000500             Jardín_maternal\n",
       "3       20000700             Jardín_maternal\n",
       "4       20001700             Jardín_maternal\n",
       "...          ...                         ...\n",
       "70448  900214608  Formación_Profesional_INET\n",
       "70449  900231300  Formación_Profesional_INET\n",
       "70450  940014900  Formación_Profesional_INET\n",
       "70451  940015300  Formación_Profesional_INET\n",
       "70452  940016600  Formación_Profesional_INET\n",
       "\n",
       "[70453 rows x 2 columns]"
      ]
     },
     "execution_count": 13,
     "metadata": {},
     "output_type": "execute_result"
    }
   ],
   "source": [
    "tipos_educativos = [\n",
    "    'Jardín_maternal',\n",
    "    'Jardín_de_infantes', \n",
    "    'Primario',\n",
    "    'Secundario',\n",
    "    'Secundario_INET',\n",
    "    'SNU',\n",
    "    'SNU_INET',\n",
    "    'Formación_Profesional',\n",
    "    'Formación_Profesional_INET'\n",
    "]\n",
    "\n",
    "partes_sql = []\n",
    "\n",
    "for tipo in tipos_educativos:\n",
    "    parte = f\"\"\"\n",
    "    SELECT Cueanexo, '{tipo}' as tipo_establecimiento\n",
    "    FROM padron_establecimientos_educativos \n",
    "    WHERE (Común = '1' OR Formación_Profesional = '1' OR Formación_Profesional_INET = '1')\n",
    "      AND {tipo} = '1'\n",
    "    \"\"\"\n",
    "    partes_sql.append(parte)\n",
    "\n",
    "consulta_union_completa = \" UNION ALL \".join(partes_sql)\n",
    "\n",
    "tabla_de_relaciones = dd.sql(consulta_union_completa).df()\n",
    "tabla_de_relaciones"
   ]
  },
  {
   "cell_type": "code",
   "execution_count": null,
   "id": "73126daa",
   "metadata": {},
   "outputs": [
    {
     "name": "stdout",
     "output_type": "stream",
     "text": [
      "Total Cueanexos únicos: 53280\n",
      "Total filas: 70453\n"
     ]
    }
   ],
   "source": [
    "print(f\"Total Cueanexos únicos: {padron_establecimientos_educativos_limpio['Cueanexo'].nunique()}\")\n",
    "print(f\"Total filas: {len(tabla_de_relaciones)}\")\n",
    "#Ver que la tabla de relaciones es mayor que el padron de establecimientos limpio"
   ]
  },
  {
   "cell_type": "code",
   "execution_count": 18,
   "id": "9e8b7627",
   "metadata": {},
   "outputs": [],
   "source": [
    "#Quiero guardar solo los datos de relevancia:\n",
    "\n",
    "ruta_subcarpeta = os.path.join('TablasModificadas', 'Datos_EstablecimientosEducativos')\n",
    "\n",
    "os.makedirs(ruta_subcarpeta, exist_ok=True)\n",
    "ruta_archivo = os.path.join(ruta_subcarpeta, 'padron_establecimientos_educativos_limpio.csv')\n",
    "padron_establecimientos_educativos_limpio.to_csv(ruta_archivo, index=False)\n",
    "\n",
    "ruta_archivo = os.path.join(ruta_subcarpeta, 'tabla_de_relaciones_tiene_tipo.csv')\n",
    "tabla_de_relaciones.to_csv(ruta_archivo, index=False)"
   ]
  },
  {
   "cell_type": "markdown",
   "id": "1535f703",
   "metadata": {},
   "source": [
    "# Actividades_departamentos no tiene limpieza asociada"
   ]
  },
  {
   "cell_type": "code",
   "execution_count": 19,
   "id": "8e15670c",
   "metadata": {},
   "outputs": [],
   "source": [
    "ruta_subcarpeta = os.path.join('TablasModificadas', 'Actividades_establecimientos')\n",
    "\n",
    "os.makedirs(ruta_subcarpeta, exist_ok=True)\n",
    "ruta_archivo = os.path.join(ruta_subcarpeta, 'actividades_establecimientos_productivos.csv')\n",
    "\n",
    "\n",
    "actividades_establecimientos_productivos.to_csv(ruta_archivo, index=False)\n"
   ]
  },
  {
   "cell_type": "markdown",
   "id": "01d61a49",
   "metadata": {},
   "source": [
    "reviso que las id esten bien:"
   ]
  },
  {
   "cell_type": "code",
   "execution_count": 20,
   "id": "0d7d4444",
   "metadata": {},
   "outputs": [
    {
     "data": {
      "text/plain": [
       "[]"
      ]
     },
     "execution_count": 20,
     "metadata": {},
     "output_type": "execute_result"
    }
   ],
   "source": [
    "a = list(set(list(actividades_establecimientos_productivos['clae6'])))\n",
    "b  = list(set(list(datos_departamento['clae6'])))\n",
    "\n",
    "interseccion_set = list(set(a) & set(b))\n",
    "interseccion_lista = list(interseccion_set)\n",
    "[x for x in b if x not in interseccion_lista]\n",
    "# No hay ids fuera"
   ]
  }
 ],
 "metadata": {
  "kernelspec": {
   "display_name": "Python 3",
   "language": "python",
   "name": "python3"
  },
  "language_info": {
   "codemirror_mode": {
    "name": "ipython",
    "version": 3
   },
   "file_extension": ".py",
   "mimetype": "text/x-python",
   "name": "python",
   "nbconvert_exporter": "python",
   "pygments_lexer": "ipython3",
   "version": "3.13.7"
  }
 },
 "nbformat": 4,
 "nbformat_minor": 5
}
