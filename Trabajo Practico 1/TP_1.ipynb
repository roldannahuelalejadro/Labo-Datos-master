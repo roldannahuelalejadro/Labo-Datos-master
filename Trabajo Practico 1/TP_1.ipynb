{
 "cells": [
  {
   "cell_type": "code",
   "execution_count": 65,
   "id": "f0fcf026",
   "metadata": {},
   "outputs": [],
   "source": [
    "import pandas as pd\n",
    "import duckdb as dd\n",
    "import sys\n",
    "import os\n",
    "\n",
    "carpeta = \"TablasOriginales\"\n",
    "padron_poblacion =  pd.read_excel(carpeta + \"/padron_poblacion.xlsX\")\n",
    "datos_departamento = pd.read_csv(carpeta + \"/Datos_por_departamento_actividad_y_sexo.csv\")\n"
   ]
  },
  {
   "cell_type": "markdown",
   "id": "693106ed",
   "metadata": {},
   "source": [
    "# limpieza padron_poblacion\n"
   ]
  },
  {
   "cell_type": "code",
   "execution_count": 66,
   "id": "16142802",
   "metadata": {},
   "outputs": [],
   "source": [
    "import pandas as pd\n",
    "import duckdb as dd\n",
    "import sys\n",
    "import os\n",
    "\n",
    "carpeta = \"TablasOriginales\"\n",
    "\n",
    "padron_poblacion =  pd.read_excel(carpeta + \"/padron_poblacion.xlsX\")\n",
    "\n",
    "padron_poblacion.columns = ['nada', 'edad', 'casos', 'porcentaje', 'porcentaje_acumulado']\n",
    "padron_poblacion.columns\n",
    "\n",
    "\n",
    "edad_index = []\n",
    "total_index = []\n",
    "areas = []\n",
    "counter = 0\n",
    "counter_total = 0\n",
    "for i in range(len(padron_poblacion['edad'].tolist())): # saco los indices de fila donde aparece Edad \n",
    "    if padron_poblacion['edad'].tolist()[i] == 'Edad':\n",
    "        counter += 1\n",
    "        edad_index.append(i+1)\n",
    "        areas.append(padron_poblacion['casos'].tolist()[i-2])\n",
    "\n",
    "\n",
    "for i in range(len(padron_poblacion['edad'].tolist())): # saco los indices de fila donde aparece Total\n",
    "    if padron_poblacion['edad'].tolist()[i] == 'Total':\n",
    "        total_index.append(i)\n",
    "        counter_total += 1\n",
    "\n",
    "if  counter != counter_total:\n",
    "    print(\"Error: Tamaños de indexacion diferentes\")\n",
    "    sys.exit()\n",
    "\n",
    "\n",
    "df_list = []\n",
    "for index in range(counter-1):\n",
    "    edad = padron_poblacion['edad'][edad_index[index]: total_index[index]].tolist()\n",
    "    casos = padron_poblacion['casos'][edad_index[index]: total_index[index]].tolist()\n",
    "    porcentaje = padron_poblacion['porcentaje'][edad_index[index]: total_index[index]].tolist()\n",
    "    porcentaje_acumulado = padron_poblacion['porcentaje_acumulado'][edad_index[index]: total_index[index]].tolist()\n",
    "    \n",
    "    data = {\n",
    "        'edad': edad,\n",
    "        'casos': casos,\n",
    "        'porcentaje': porcentaje,\n",
    "        'porcentaje_acumulado': porcentaje_acumulado\n",
    "    }\n",
    "\n",
    "    df_ = pd.DataFrame(data)\n",
    "\n",
    "    ruta_subcarpeta = os.path.join('TablasModificadas', 'Padrones')\n",
    "\n",
    "    os.makedirs(ruta_subcarpeta, exist_ok=True)\n",
    "\n",
    "    ruta_archivo = os.path.join(ruta_subcarpeta, f'padron_poblacion_{areas[index]}.csv')\n",
    "    df_.to_csv(ruta_archivo, index=False)\n",
    "    \n",
    "    df_list.append(df_)\n",
    "\n"
   ]
  },
  {
   "cell_type": "markdown",
   "id": "dc09ba29",
   "metadata": {},
   "source": [
    "### si quiero borrar los datos para mandarlos ejecutar esta celda :"
   ]
  },
  {
   "cell_type": "code",
   "execution_count": null,
   "id": "eccc5eeb",
   "metadata": {},
   "outputs": [
    {
     "name": "stdout",
     "output_type": "stream",
     "text": [
      "Archivos eliminados exitosamente.\n"
     ]
    }
   ],
   "source": [
    "import shutil\n",
    "import os\n",
    "\n",
    "# Ruta de la carpeta que contiene los archivos a eliminar\n",
    "carpeta_padrones = os.path.join('TablasModificadas', 'Padrones')\n",
    "\n",
    "# Verificar si la carpeta existe\n",
    "if os.path.exists(carpeta_padrones):\n",
    "    # Borrar todos los archivos dentro de la carpeta\n",
    "    for archivo in os.listdir(carpeta_padrones):\n",
    "        archivo_path = os.path.join(carpeta_padrones, archivo)\n",
    "        if os.path.isfile(archivo_path):\n",
    "            os.remove(archivo_path)\n",
    "    print(\"Archivos eliminados exitosamente.\")\n",
    "else:\n",
    "    print(f\"La carpeta {carpeta_padrones} no existe.\")\n"
   ]
  },
  {
   "cell_type": "code",
   "execution_count": 72,
   "id": "4bea53c5",
   "metadata": {},
   "outputs": [
    {
     "name": "stdout",
     "output_type": "stream",
     "text": [
      "443\n"
     ]
    }
   ],
   "source": [
    "datos_departamento\n",
    "consultaSQL = \"\"\"\n",
    "SELECT DISTINCT departamento\n",
    "FROM datos_departamento \n",
    "              \"\"\"\n",
    "\n",
    "dataframeResultado = dd.sql(consultaSQL).df()\n",
    "dataframeResultado\n",
    "\n",
    "EP_deparatementos = list(dataframeResultado['departamento'])\n",
    "conjunto1 = set(areas)\n",
    "interseccion_set = conjunto1.intersection(EP_deparatementos)\n",
    "interseccion_lista = list(interseccion_set)\n",
    "\n",
    "print(len(interseccion_lista))  \n"
   ]
  },
  {
   "cell_type": "code",
   "execution_count": 73,
   "id": "02fdf50b",
   "metadata": {},
   "outputs": [
    {
     "data": {
      "text/plain": [
       "['Puán', '1° de Mayo']"
      ]
     },
     "execution_count": 73,
     "metadata": {},
     "output_type": "execute_result"
    }
   ],
   "source": [
    "[x for x in EP_deparatementos if x not in interseccion_lista]"
   ]
  },
  {
   "cell_type": "code",
   "execution_count": 74,
   "id": "c2fcde6e",
   "metadata": {},
   "outputs": [
    {
     "name": "stdout",
     "output_type": "stream",
     "text": [
      "False\n",
      "False\n"
     ]
    }
   ],
   "source": [
    "print('1º de Mayo' == '1° de Mayo' )\n",
    "print('Puan' == 'Puán')"
   ]
  },
  {
   "cell_type": "code",
   "execution_count": null,
   "id": "5ca2053f",
   "metadata": {},
   "outputs": [],
   "source": [
    "# QUE HAGO CON ESTOS QUE NO ESTAN BIEN PUESTOS EN LOS ID"
   ]
  },
  {
   "cell_type": "markdown",
   "id": "86d2da45",
   "metadata": {},
   "source": [
    "# Limpieza establecimientos educativos\n",
    "\n",
    "\n",
    "\n"
   ]
  },
  {
   "cell_type": "code",
   "execution_count": null,
   "id": "1623f7f0",
   "metadata": {},
   "outputs": [],
   "source": []
  }
 ],
 "metadata": {
  "kernelspec": {
   "display_name": ".venv",
   "language": "python",
   "name": "python3"
  },
  "language_info": {
   "codemirror_mode": {
    "name": "ipython",
    "version": 3
   },
   "file_extension": ".py",
   "mimetype": "text/x-python",
   "name": "python",
   "nbconvert_exporter": "python",
   "pygments_lexer": "ipython3",
   "version": "3.12.3"
  }
 },
 "nbformat": 4,
 "nbformat_minor": 5
}
